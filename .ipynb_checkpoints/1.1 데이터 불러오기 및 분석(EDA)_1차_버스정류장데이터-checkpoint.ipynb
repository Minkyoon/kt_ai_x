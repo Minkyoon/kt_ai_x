{
 "cells": [
  {
   "cell_type": "markdown",
   "id": "a925247d",
   "metadata": {
    "id": "0bd83ddf"
   },
   "source": [
    "# D팀\n",
    "## 김지민, 유민균, 김종한, 조수환, 고예은"
   ]
  },
  {
   "cell_type": "code",
   "execution_count": null,
   "id": "e50a8ca6",
   "metadata": {},
   "outputs": [],
   "source": [
    "import sys\n",
    "import numpy as np\n",
    "import pandas as pd"
   ]
  },
  {
   "cell_type": "code",
   "execution_count": 3,
   "id": "saving-slope",
   "metadata": {
    "id": "saving-slope"
   },
   "outputs": [],
   "source": [
    "# 아래에 실습코드를 작성하고 결과를 확인합니다.\n",
    "\n",
    "bus_station = pd.read_csv('rawfiles3/1.1 BUS_STATION_BOARDING_MONTH_202204.csv', sep=\",\", encoding = \"cp949\")"
   ]
  },
  {
   "cell_type": "code",
   "execution_count": 4,
   "id": "funny-subcommittee",
   "metadata": {
    "id": "funny-subcommittee"
   },
   "outputs": [
    {
     "data": {
      "text/plain": [
       "(1048575, 8)"
      ]
     },
     "execution_count": 4,
     "metadata": {},
     "output_type": "execute_result"
    }
   ],
   "source": [
    "# 데이터 프레임의 Shape을 확인합니다.\n",
    "\n",
    "bus_station.shape"
   ]
  },
  {
   "cell_type": "markdown",
   "id": "73396b42",
   "metadata": {
    "id": "73396b42"
   },
   "source": [
    "---"
   ]
  },
  {
   "cell_type": "markdown",
   "id": "annoying-trout",
   "metadata": {
    "id": "annoying-trout"
   },
   "source": [
    "# 2.기본 정보 확인 및 클렌징\n",
    "\n",
    "+ 데이터 클렌징 : 결측치, 이상치 등을 제거하여 데이터 분석 결과가 왜곡 되는 문제를 방지하기 위한 정제 과정"
   ]
  },
  {
   "cell_type": "markdown",
   "id": "romantic-johnson",
   "metadata": {
    "id": "romantic-johnson"
   },
   "source": [
    "#### [실습문제2] 기본 정보 확인하기\n",
    "* 'bus_station' 데이터의 정보를 확인해보세요.\n",
    "* 'describe', 'info', 'head' 등 전부 활용해 보겠습니다."
   ]
  },
  {
   "cell_type": "code",
   "execution_count": 5,
   "id": "7343fadf",
   "metadata": {
    "id": "7343fadf"
   },
   "outputs": [
    {
     "data": {
      "text/html": [
       "<div>\n",
       "<style scoped>\n",
       "    .dataframe tbody tr th:only-of-type {\n",
       "        vertical-align: middle;\n",
       "    }\n",
       "\n",
       "    .dataframe tbody tr th {\n",
       "        vertical-align: top;\n",
       "    }\n",
       "\n",
       "    .dataframe thead th {\n",
       "        text-align: right;\n",
       "    }\n",
       "</style>\n",
       "<table border=\"1\" class=\"dataframe\">\n",
       "  <thead>\n",
       "    <tr style=\"text-align: right;\">\n",
       "      <th></th>\n",
       "      <th>사용일자</th>\n",
       "      <th>노선번호</th>\n",
       "      <th>노선명</th>\n",
       "      <th>버스정류장ARS번호</th>\n",
       "      <th>역명</th>\n",
       "      <th>승차총승객수</th>\n",
       "      <th>하차총승객수</th>\n",
       "      <th>등록일자</th>\n",
       "    </tr>\n",
       "  </thead>\n",
       "  <tbody>\n",
       "    <tr>\n",
       "      <th>0</th>\n",
       "      <td>20220401</td>\n",
       "      <td>2112</td>\n",
       "      <td>2112번(면목동~성북동)</td>\n",
       "      <td>6243</td>\n",
       "      <td>장안동삼성쉐르빌아파트</td>\n",
       "      <td>31</td>\n",
       "      <td>156</td>\n",
       "      <td>20220404</td>\n",
       "    </tr>\n",
       "    <tr>\n",
       "      <th>1</th>\n",
       "      <td>20220401</td>\n",
       "      <td>2112</td>\n",
       "      <td>2112번(면목동~성북동)</td>\n",
       "      <td>6242</td>\n",
       "      <td>새서울병원</td>\n",
       "      <td>46</td>\n",
       "      <td>153</td>\n",
       "      <td>20220404</td>\n",
       "    </tr>\n",
       "    <tr>\n",
       "      <th>2</th>\n",
       "      <td>20220401</td>\n",
       "      <td>2112</td>\n",
       "      <td>2112번(면목동~성북동)</td>\n",
       "      <td>6238</td>\n",
       "      <td>장안동근린공원</td>\n",
       "      <td>11</td>\n",
       "      <td>80</td>\n",
       "      <td>20220404</td>\n",
       "    </tr>\n",
       "    <tr>\n",
       "      <th>3</th>\n",
       "      <td>20220401</td>\n",
       "      <td>2112</td>\n",
       "      <td>2112번(면목동~성북동)</td>\n",
       "      <td>6309</td>\n",
       "      <td>휘경공고휘경주공아파트</td>\n",
       "      <td>56</td>\n",
       "      <td>65</td>\n",
       "      <td>20220404</td>\n",
       "    </tr>\n",
       "    <tr>\n",
       "      <th>4</th>\n",
       "      <td>20220401</td>\n",
       "      <td>100</td>\n",
       "      <td>100번(하계동~용산구청)</td>\n",
       "      <td>11428</td>\n",
       "      <td>한성여객종점</td>\n",
       "      <td>9</td>\n",
       "      <td>5</td>\n",
       "      <td>20220404</td>\n",
       "    </tr>\n",
       "  </tbody>\n",
       "</table>\n",
       "</div>"
      ],
      "text/plain": [
       "       사용일자  노선번호             노선명 버스정류장ARS번호           역명  승차총승객수  하차총승객수  \\\n",
       "0  20220401  2112  2112번(면목동~성북동)       6243  장안동삼성쉐르빌아파트      31     156   \n",
       "1  20220401  2112  2112번(면목동~성북동)       6242        새서울병원      46     153   \n",
       "2  20220401  2112  2112번(면목동~성북동)       6238      장안동근린공원      11      80   \n",
       "3  20220401  2112  2112번(면목동~성북동)       6309  휘경공고휘경주공아파트      56      65   \n",
       "4  20220401   100  100번(하계동~용산구청)      11428       한성여객종점       9       5   \n",
       "\n",
       "       등록일자  \n",
       "0  20220404  \n",
       "1  20220404  \n",
       "2  20220404  \n",
       "3  20220404  \n",
       "4  20220404  "
      ]
     },
     "execution_count": 5,
     "metadata": {},
     "output_type": "execute_result"
    }
   ],
   "source": [
    "bus_station.head()"
   ]
  },
  {
   "cell_type": "code",
   "execution_count": 6,
   "id": "7f77b32f",
   "metadata": {
    "id": "7f77b32f",
    "scrolled": true
   },
   "outputs": [
    {
     "data": {
      "text/html": [
       "<div>\n",
       "<style scoped>\n",
       "    .dataframe tbody tr th:only-of-type {\n",
       "        vertical-align: middle;\n",
       "    }\n",
       "\n",
       "    .dataframe tbody tr th {\n",
       "        vertical-align: top;\n",
       "    }\n",
       "\n",
       "    .dataframe thead th {\n",
       "        text-align: right;\n",
       "    }\n",
       "</style>\n",
       "<table border=\"1\" class=\"dataframe\">\n",
       "  <thead>\n",
       "    <tr style=\"text-align: right;\">\n",
       "      <th></th>\n",
       "      <th>사용일자</th>\n",
       "      <th>노선번호</th>\n",
       "      <th>노선명</th>\n",
       "      <th>버스정류장ARS번호</th>\n",
       "      <th>역명</th>\n",
       "      <th>승차총승객수</th>\n",
       "      <th>하차총승객수</th>\n",
       "      <th>등록일자</th>\n",
       "    </tr>\n",
       "  </thead>\n",
       "  <tbody>\n",
       "    <tr>\n",
       "      <th>1048570</th>\n",
       "      <td>20220427</td>\n",
       "      <td>171</td>\n",
       "      <td>171번(용마문화복지센터~월드컵파크7단지)</td>\n",
       "      <td>13145</td>\n",
       "      <td>연세로.명물거리</td>\n",
       "      <td>148</td>\n",
       "      <td>75</td>\n",
       "      <td>20220430</td>\n",
       "    </tr>\n",
       "    <tr>\n",
       "      <th>1048571</th>\n",
       "      <td>20220427</td>\n",
       "      <td>171</td>\n",
       "      <td>171번(용마문화복지센터~월드컵파크7단지)</td>\n",
       "      <td>13013</td>\n",
       "      <td>연세대앞</td>\n",
       "      <td>222</td>\n",
       "      <td>149</td>\n",
       "      <td>20220430</td>\n",
       "    </tr>\n",
       "    <tr>\n",
       "      <th>1048572</th>\n",
       "      <td>20220427</td>\n",
       "      <td>171</td>\n",
       "      <td>171번(용마문화복지센터~월드컵파크7단지)</td>\n",
       "      <td>14156</td>\n",
       "      <td>중동초등학교</td>\n",
       "      <td>50</td>\n",
       "      <td>123</td>\n",
       "      <td>20220430</td>\n",
       "    </tr>\n",
       "    <tr>\n",
       "      <th>1048573</th>\n",
       "      <td>20220427</td>\n",
       "      <td>171</td>\n",
       "      <td>171번(용마문화복지센터~월드컵파크7단지)</td>\n",
       "      <td>13009</td>\n",
       "      <td>연희104고지앞.구성산회관</td>\n",
       "      <td>284</td>\n",
       "      <td>104</td>\n",
       "      <td>20220430</td>\n",
       "    </tr>\n",
       "    <tr>\n",
       "      <th>1048574</th>\n",
       "      <td>20220427</td>\n",
       "      <td>160</td>\n",
       "      <td>160번(도봉산~온수동)</td>\n",
       "      <td>17173</td>\n",
       "      <td>씨티월드</td>\n",
       "      <td>444</td>\n",
       "      <td>181</td>\n",
       "      <td>20220430</td>\n",
       "    </tr>\n",
       "  </tbody>\n",
       "</table>\n",
       "</div>"
      ],
      "text/plain": [
       "             사용일자 노선번호                      노선명 버스정류장ARS번호              역명  \\\n",
       "1048570  20220427  171  171번(용마문화복지센터~월드컵파크7단지)      13145        연세로.명물거리   \n",
       "1048571  20220427  171  171번(용마문화복지센터~월드컵파크7단지)      13013            연세대앞   \n",
       "1048572  20220427  171  171번(용마문화복지센터~월드컵파크7단지)      14156          중동초등학교   \n",
       "1048573  20220427  171  171번(용마문화복지센터~월드컵파크7단지)      13009  연희104고지앞.구성산회관   \n",
       "1048574  20220427  160            160번(도봉산~온수동)      17173            씨티월드   \n",
       "\n",
       "         승차총승객수  하차총승객수      등록일자  \n",
       "1048570     148      75  20220430  \n",
       "1048571     222     149  20220430  \n",
       "1048572      50     123  20220430  \n",
       "1048573     284     104  20220430  \n",
       "1048574     444     181  20220430  "
      ]
     },
     "execution_count": 6,
     "metadata": {},
     "output_type": "execute_result"
    }
   ],
   "source": [
    "bus_station.tail()"
   ]
  },
  {
   "cell_type": "code",
   "execution_count": 7,
   "id": "demographic-battery",
   "metadata": {
    "id": "demographic-battery"
   },
   "outputs": [
    {
     "name": "stdout",
     "output_type": "stream",
     "text": [
      "<class 'pandas.core.frame.DataFrame'>\n",
      "RangeIndex: 1048575 entries, 0 to 1048574\n",
      "Data columns (total 8 columns):\n",
      " #   Column      Non-Null Count    Dtype \n",
      "---  ------      --------------    ----- \n",
      " 0   사용일자        1048575 non-null  int64 \n",
      " 1   노선번호        1048575 non-null  object\n",
      " 2   노선명         1048575 non-null  object\n",
      " 3   버스정류장ARS번호  1048575 non-null  object\n",
      " 4   역명          1048575 non-null  object\n",
      " 5   승차총승객수      1048575 non-null  int64 \n",
      " 6   하차총승객수      1048575 non-null  int64 \n",
      " 7   등록일자        1048575 non-null  int64 \n",
      "dtypes: int64(4), object(4)\n",
      "memory usage: 64.0+ MB\n"
     ]
    }
   ],
   "source": [
    "# 아래에 실습코드를 작성하고 결과를 확인합니다.\n",
    "bus_station.info()"
   ]
  },
  {
   "cell_type": "code",
   "execution_count": 8,
   "id": "940a114a",
   "metadata": {
    "id": "940a114a"
   },
   "outputs": [
    {
     "data": {
      "text/html": [
       "<div>\n",
       "<style scoped>\n",
       "    .dataframe tbody tr th:only-of-type {\n",
       "        vertical-align: middle;\n",
       "    }\n",
       "\n",
       "    .dataframe tbody tr th {\n",
       "        vertical-align: top;\n",
       "    }\n",
       "\n",
       "    .dataframe thead th {\n",
       "        text-align: right;\n",
       "    }\n",
       "</style>\n",
       "<table border=\"1\" class=\"dataframe\">\n",
       "  <thead>\n",
       "    <tr style=\"text-align: right;\">\n",
       "      <th></th>\n",
       "      <th>사용일자</th>\n",
       "      <th>승차총승객수</th>\n",
       "      <th>하차총승객수</th>\n",
       "      <th>등록일자</th>\n",
       "    </tr>\n",
       "  </thead>\n",
       "  <tbody>\n",
       "    <tr>\n",
       "      <th>count</th>\n",
       "      <td>1.048575e+06</td>\n",
       "      <td>1.048575e+06</td>\n",
       "      <td>1.048575e+06</td>\n",
       "      <td>1.048575e+06</td>\n",
       "    </tr>\n",
       "    <tr>\n",
       "      <th>mean</th>\n",
       "      <td>2.022041e+07</td>\n",
       "      <td>1.099344e+02</td>\n",
       "      <td>1.074428e+02</td>\n",
       "      <td>2.022042e+07</td>\n",
       "    </tr>\n",
       "    <tr>\n",
       "      <th>std</th>\n",
       "      <td>7.778694e+00</td>\n",
       "      <td>1.543794e+02</td>\n",
       "      <td>1.410027e+02</td>\n",
       "      <td>7.778694e+00</td>\n",
       "    </tr>\n",
       "    <tr>\n",
       "      <th>min</th>\n",
       "      <td>2.022040e+07</td>\n",
       "      <td>0.000000e+00</td>\n",
       "      <td>0.000000e+00</td>\n",
       "      <td>2.022040e+07</td>\n",
       "    </tr>\n",
       "    <tr>\n",
       "      <th>25%</th>\n",
       "      <td>2.022041e+07</td>\n",
       "      <td>1.800000e+01</td>\n",
       "      <td>2.100000e+01</td>\n",
       "      <td>2.022041e+07</td>\n",
       "    </tr>\n",
       "    <tr>\n",
       "      <th>50%</th>\n",
       "      <td>2.022041e+07</td>\n",
       "      <td>6.300000e+01</td>\n",
       "      <td>6.700000e+01</td>\n",
       "      <td>2.022042e+07</td>\n",
       "    </tr>\n",
       "    <tr>\n",
       "      <th>75%</th>\n",
       "      <td>2.022042e+07</td>\n",
       "      <td>1.450000e+02</td>\n",
       "      <td>1.430000e+02</td>\n",
       "      <td>2.022042e+07</td>\n",
       "    </tr>\n",
       "    <tr>\n",
       "      <th>max</th>\n",
       "      <td>2.022043e+07</td>\n",
       "      <td>3.990000e+03</td>\n",
       "      <td>3.478000e+03</td>\n",
       "      <td>2.022043e+07</td>\n",
       "    </tr>\n",
       "  </tbody>\n",
       "</table>\n",
       "</div>"
      ],
      "text/plain": [
       "               사용일자        승차총승객수        하차총승객수          등록일자\n",
       "count  1.048575e+06  1.048575e+06  1.048575e+06  1.048575e+06\n",
       "mean   2.022041e+07  1.099344e+02  1.074428e+02  2.022042e+07\n",
       "std    7.778694e+00  1.543794e+02  1.410027e+02  7.778694e+00\n",
       "min    2.022040e+07  0.000000e+00  0.000000e+00  2.022040e+07\n",
       "25%    2.022041e+07  1.800000e+01  2.100000e+01  2.022041e+07\n",
       "50%    2.022041e+07  6.300000e+01  6.700000e+01  2.022042e+07\n",
       "75%    2.022042e+07  1.450000e+02  1.430000e+02  2.022042e+07\n",
       "max    2.022043e+07  3.990000e+03  3.478000e+03  2.022043e+07"
      ]
     },
     "execution_count": 8,
     "metadata": {},
     "output_type": "execute_result"
    }
   ],
   "source": [
    "# 아래에 실습코드를 작성하고 결과를 확인합니다.\n",
    "bus_station.describe()"
   ]
  },
  {
   "cell_type": "markdown",
   "id": "A028AdQ_FMWd",
   "metadata": {
    "id": "A028AdQ_FMWd"
   },
   "source": [
    "#### [실습문제3] 위 데이터에서 버스정류장 위치를 구 별로 구분 하고 싶습니다.\n",
    "\n",
    "* 'bus_station' 데이터의 정보를 확인해보세요.\n",
    "\n",
    "* 어떻게 해야 할까요?? (tip! 버스정류장ARS번호의 앞 두자리가 구를 의미합니다.)\n",
    "\n",
    "* '자치구' column을 추가하여 정류장이 위치한 구 이름을 등록해주세요.\n"
   ]
  },
  {
   "cell_type": "code",
   "execution_count": 9,
   "id": "98e2fc76",
   "metadata": {
    "id": "98e2fc76"
   },
   "outputs": [
    {
     "data": {
      "text/plain": [
       "0           6243\n",
       "1           6242\n",
       "2           6238\n",
       "3           6309\n",
       "4          11428\n",
       "           ...  \n",
       "1048570    13145\n",
       "1048571    13013\n",
       "1048572    14156\n",
       "1048573    13009\n",
       "1048574    17173\n",
       "Name: 버스정류장ARS번호, Length: 1048575, dtype: object"
      ]
     },
     "execution_count": 9,
     "metadata": {},
     "output_type": "execute_result"
    }
   ],
   "source": [
    "bus_station[\"버스정류장ARS번호\"]"
   ]
  },
  {
   "cell_type": "code",
   "execution_count": 10,
   "id": "056437b2",
   "metadata": {
    "id": "056437b2"
   },
   "outputs": [
    {
     "data": {
      "text/plain": [
       "0          62\n",
       "1          62\n",
       "2          62\n",
       "3          63\n",
       "4          11\n",
       "           ..\n",
       "1048570    13\n",
       "1048571    13\n",
       "1048572    14\n",
       "1048573    13\n",
       "1048574    17\n",
       "Name: 자치구, Length: 1048575, dtype: object"
      ]
     },
     "execution_count": 10,
     "metadata": {},
     "output_type": "execute_result"
    }
   ],
   "source": [
    "# 버스정류장 ARS 번호의 앞자리 2개로 새로 컬럼 생성합니다\n",
    "\n",
    "bus_station['자치구'] = bus_station[\"버스정류장ARS번호\"].str.slice(start=0, stop=2)\n",
    "bus_station['자치구']"
   ]
  },
  {
   "cell_type": "markdown",
   "id": "1e97c502",
   "metadata": {
    "id": "1e97c502"
   },
   "source": [
    "* 버스정류장 ARS 번호 - 01~25까지 앞 숫자 두개가 위치한 구를 의미\n",
    "    01. 종로구\n",
    "    02. 중구\n",
    "    03. 용산구\n",
    "    04. 성동구\n",
    "    05. 광진구\n",
    "    06. 동대문구\n",
    "    07. 중랑구\n",
    "    08. 성북구\n",
    "    09. 강북구\n",
    "    10. 도봉구\n",
    "    11. 노원구\n",
    "    12. 은평구\n",
    "    13. 서대문구\n",
    "    14. 마포구\n",
    "    15. 양천구\n",
    "    16. 강서구\n",
    "    17. 구로구\n",
    "    18. 금천구\n",
    "    19. 영등포구\n",
    "    20. 동작구\n",
    "    21. 관악구\n",
    "    22. 서초구\n",
    "    23. 강남구\n",
    "    24. 송파구\n",
    "    25. 강동구"
   ]
  },
  {
   "cell_type": "code",
   "execution_count": 11,
   "id": "ilgqSlR7FMWe",
   "metadata": {
    "id": "ilgqSlR7FMWe"
   },
   "outputs": [],
   "source": [
    "# 구 코드를 구 이름으로 변환합니다\n",
    "\n",
    "bus_station['자치구'] = bus_station['자치구'].map({\n",
    "    '01': '종로구',\n",
    "    '02': '중구',\n",
    "    '03': '용산구',\n",
    "    '04': '성동구',\n",
    "    '05': '광진구',\n",
    "    '06': '동대문구',\n",
    "    '07': '중랑구',\n",
    "    '08': '성북구',\n",
    "    '09': '강북구',\n",
    "    '10': '도봉구',\n",
    "    '11': '노원구',\n",
    "    '12': '은평구',\n",
    "    '13': '서대문구',\n",
    "    '14': '마포구',\n",
    "    '15': '양천구',\n",
    "    '16': '강서구',\n",
    "    '17': '구로구',\n",
    "    '18': '금천구',\n",
    "    '19': '영등포구',\n",
    "    '20': '동작구',\n",
    "    '21': '관악구',\n",
    "    '22': '서초구',\n",
    "    '23': '강남구',\n",
    "    '24': '송파구',\n",
    "    '25': '강동구'})\n"
   ]
  },
  {
   "cell_type": "code",
   "execution_count": 12,
   "id": "vOwIHjcbFMWe",
   "metadata": {
    "id": "vOwIHjcbFMWe"
   },
   "outputs": [
    {
     "data": {
      "text/html": [
       "<div>\n",
       "<style scoped>\n",
       "    .dataframe tbody tr th:only-of-type {\n",
       "        vertical-align: middle;\n",
       "    }\n",
       "\n",
       "    .dataframe tbody tr th {\n",
       "        vertical-align: top;\n",
       "    }\n",
       "\n",
       "    .dataframe thead th {\n",
       "        text-align: right;\n",
       "    }\n",
       "</style>\n",
       "<table border=\"1\" class=\"dataframe\">\n",
       "  <thead>\n",
       "    <tr style=\"text-align: right;\">\n",
       "      <th></th>\n",
       "      <th>사용일자</th>\n",
       "      <th>노선번호</th>\n",
       "      <th>노선명</th>\n",
       "      <th>버스정류장ARS번호</th>\n",
       "      <th>역명</th>\n",
       "      <th>승차총승객수</th>\n",
       "      <th>하차총승객수</th>\n",
       "      <th>등록일자</th>\n",
       "      <th>자치구</th>\n",
       "    </tr>\n",
       "  </thead>\n",
       "  <tbody>\n",
       "    <tr>\n",
       "      <th>0</th>\n",
       "      <td>20220401</td>\n",
       "      <td>2112</td>\n",
       "      <td>2112번(면목동~성북동)</td>\n",
       "      <td>6243</td>\n",
       "      <td>장안동삼성쉐르빌아파트</td>\n",
       "      <td>31</td>\n",
       "      <td>156</td>\n",
       "      <td>20220404</td>\n",
       "      <td>NaN</td>\n",
       "    </tr>\n",
       "    <tr>\n",
       "      <th>1</th>\n",
       "      <td>20220401</td>\n",
       "      <td>2112</td>\n",
       "      <td>2112번(면목동~성북동)</td>\n",
       "      <td>6242</td>\n",
       "      <td>새서울병원</td>\n",
       "      <td>46</td>\n",
       "      <td>153</td>\n",
       "      <td>20220404</td>\n",
       "      <td>NaN</td>\n",
       "    </tr>\n",
       "    <tr>\n",
       "      <th>2</th>\n",
       "      <td>20220401</td>\n",
       "      <td>2112</td>\n",
       "      <td>2112번(면목동~성북동)</td>\n",
       "      <td>6238</td>\n",
       "      <td>장안동근린공원</td>\n",
       "      <td>11</td>\n",
       "      <td>80</td>\n",
       "      <td>20220404</td>\n",
       "      <td>NaN</td>\n",
       "    </tr>\n",
       "    <tr>\n",
       "      <th>3</th>\n",
       "      <td>20220401</td>\n",
       "      <td>2112</td>\n",
       "      <td>2112번(면목동~성북동)</td>\n",
       "      <td>6309</td>\n",
       "      <td>휘경공고휘경주공아파트</td>\n",
       "      <td>56</td>\n",
       "      <td>65</td>\n",
       "      <td>20220404</td>\n",
       "      <td>NaN</td>\n",
       "    </tr>\n",
       "    <tr>\n",
       "      <th>4</th>\n",
       "      <td>20220401</td>\n",
       "      <td>100</td>\n",
       "      <td>100번(하계동~용산구청)</td>\n",
       "      <td>11428</td>\n",
       "      <td>한성여객종점</td>\n",
       "      <td>9</td>\n",
       "      <td>5</td>\n",
       "      <td>20220404</td>\n",
       "      <td>노원구</td>\n",
       "    </tr>\n",
       "  </tbody>\n",
       "</table>\n",
       "</div>"
      ],
      "text/plain": [
       "       사용일자  노선번호             노선명 버스정류장ARS번호           역명  승차총승객수  하차총승객수  \\\n",
       "0  20220401  2112  2112번(면목동~성북동)       6243  장안동삼성쉐르빌아파트      31     156   \n",
       "1  20220401  2112  2112번(면목동~성북동)       6242        새서울병원      46     153   \n",
       "2  20220401  2112  2112번(면목동~성북동)       6238      장안동근린공원      11      80   \n",
       "3  20220401  2112  2112번(면목동~성북동)       6309  휘경공고휘경주공아파트      56      65   \n",
       "4  20220401   100  100번(하계동~용산구청)      11428       한성여객종점       9       5   \n",
       "\n",
       "       등록일자  자치구  \n",
       "0  20220404  NaN  \n",
       "1  20220404  NaN  \n",
       "2  20220404  NaN  \n",
       "3  20220404  NaN  \n",
       "4  20220404  노원구  "
      ]
     },
     "execution_count": 12,
     "metadata": {},
     "output_type": "execute_result"
    }
   ],
   "source": [
    "# 아래에 실습코드를 작성하고 결과를 확인합니다.\n",
    "bus_station.head()"
   ]
  },
  {
   "cell_type": "markdown",
   "id": "0606db26",
   "metadata": {
    "id": "0606db26"
   },
   "source": [
    "#### [실습문제4] 결측치를 처리 합시다 \n",
    "\n"
   ]
  },
  {
   "cell_type": "code",
   "execution_count": 13,
   "id": "915f766b",
   "metadata": {
    "id": "915f766b"
   },
   "outputs": [
    {
     "data": {
      "text/html": [
       "<div>\n",
       "<style scoped>\n",
       "    .dataframe tbody tr th:only-of-type {\n",
       "        vertical-align: middle;\n",
       "    }\n",
       "\n",
       "    .dataframe tbody tr th {\n",
       "        vertical-align: top;\n",
       "    }\n",
       "\n",
       "    .dataframe thead th {\n",
       "        text-align: right;\n",
       "    }\n",
       "</style>\n",
       "<table border=\"1\" class=\"dataframe\">\n",
       "  <thead>\n",
       "    <tr style=\"text-align: right;\">\n",
       "      <th></th>\n",
       "      <th>사용일자</th>\n",
       "      <th>노선번호</th>\n",
       "      <th>노선명</th>\n",
       "      <th>버스정류장ARS번호</th>\n",
       "      <th>역명</th>\n",
       "      <th>승차총승객수</th>\n",
       "      <th>하차총승객수</th>\n",
       "      <th>등록일자</th>\n",
       "      <th>자치구</th>\n",
       "    </tr>\n",
       "  </thead>\n",
       "  <tbody>\n",
       "    <tr>\n",
       "      <th>747</th>\n",
       "      <td>20220401</td>\n",
       "      <td>750B</td>\n",
       "      <td>750B번(은평차고지~서울대)</td>\n",
       "      <td>~</td>\n",
       "      <td>은평공영차고지(가상)</td>\n",
       "      <td>0</td>\n",
       "      <td>100</td>\n",
       "      <td>20220404</td>\n",
       "      <td>NaN</td>\n",
       "    </tr>\n",
       "    <tr>\n",
       "      <th>852</th>\n",
       "      <td>20220401</td>\n",
       "      <td>602</td>\n",
       "      <td>602번(양천공용차고지~시청앞)</td>\n",
       "      <td>~</td>\n",
       "      <td>양천공영차고지(기점가상)</td>\n",
       "      <td>10</td>\n",
       "      <td>0</td>\n",
       "      <td>20220404</td>\n",
       "      <td>NaN</td>\n",
       "    </tr>\n",
       "    <tr>\n",
       "      <th>1048</th>\n",
       "      <td>20220401</td>\n",
       "      <td>2227</td>\n",
       "      <td>2227번(중랑공영차고지~중곡역)</td>\n",
       "      <td>~</td>\n",
       "      <td>중랑공영차고지(기점가상)</td>\n",
       "      <td>1</td>\n",
       "      <td>0</td>\n",
       "      <td>20220404</td>\n",
       "      <td>NaN</td>\n",
       "    </tr>\n",
       "    <tr>\n",
       "      <th>1252</th>\n",
       "      <td>20220401</td>\n",
       "      <td>2311</td>\n",
       "      <td>2311번(중랑차고지~문정동)</td>\n",
       "      <td>~</td>\n",
       "      <td>중랑공영차고지(기점가상)</td>\n",
       "      <td>7</td>\n",
       "      <td>0</td>\n",
       "      <td>20220404</td>\n",
       "      <td>NaN</td>\n",
       "    </tr>\n",
       "    <tr>\n",
       "      <th>1479</th>\n",
       "      <td>20220401</td>\n",
       "      <td>2312</td>\n",
       "      <td>2312번(중랑공영차고지~강동공영차고지)</td>\n",
       "      <td>~</td>\n",
       "      <td>중랑공영차고지(기점가상)</td>\n",
       "      <td>4</td>\n",
       "      <td>0</td>\n",
       "      <td>20220404</td>\n",
       "      <td>NaN</td>\n",
       "    </tr>\n",
       "    <tr>\n",
       "      <th>...</th>\n",
       "      <td>...</td>\n",
       "      <td>...</td>\n",
       "      <td>...</td>\n",
       "      <td>...</td>\n",
       "      <td>...</td>\n",
       "      <td>...</td>\n",
       "      <td>...</td>\n",
       "      <td>...</td>\n",
       "      <td>...</td>\n",
       "    </tr>\n",
       "    <tr>\n",
       "      <th>1047071</th>\n",
       "      <td>20220427</td>\n",
       "      <td>130</td>\n",
       "      <td>130번(우이동~길동)</td>\n",
       "      <td>~</td>\n",
       "      <td>우이동차고지(기점가상)</td>\n",
       "      <td>332</td>\n",
       "      <td>318</td>\n",
       "      <td>20220430</td>\n",
       "      <td>NaN</td>\n",
       "    </tr>\n",
       "    <tr>\n",
       "      <th>1047493</th>\n",
       "      <td>20220427</td>\n",
       "      <td>143</td>\n",
       "      <td>143번(정릉~개포동)</td>\n",
       "      <td>~</td>\n",
       "      <td>대진여객차고지(가상)</td>\n",
       "      <td>485</td>\n",
       "      <td>2</td>\n",
       "      <td>20220430</td>\n",
       "      <td>NaN</td>\n",
       "    </tr>\n",
       "    <tr>\n",
       "      <th>1047602</th>\n",
       "      <td>20220427</td>\n",
       "      <td>144</td>\n",
       "      <td>144번(우이동~교대)</td>\n",
       "      <td>~</td>\n",
       "      <td>우이동차고지(기점가상)</td>\n",
       "      <td>65</td>\n",
       "      <td>111</td>\n",
       "      <td>20220430</td>\n",
       "      <td>NaN</td>\n",
       "    </tr>\n",
       "    <tr>\n",
       "      <th>1048461</th>\n",
       "      <td>20220427</td>\n",
       "      <td>162</td>\n",
       "      <td>162번(정릉~여의도)</td>\n",
       "      <td>~</td>\n",
       "      <td>대진여객차고지(가상)</td>\n",
       "      <td>264</td>\n",
       "      <td>4</td>\n",
       "      <td>20220430</td>\n",
       "      <td>NaN</td>\n",
       "    </tr>\n",
       "    <tr>\n",
       "      <th>1048533</th>\n",
       "      <td>20220427</td>\n",
       "      <td>171</td>\n",
       "      <td>171번(용마문화복지센터~월드컵파크7단지)</td>\n",
       "      <td>~</td>\n",
       "      <td>도원교통차고지(가상)</td>\n",
       "      <td>485</td>\n",
       "      <td>1</td>\n",
       "      <td>20220430</td>\n",
       "      <td>NaN</td>\n",
       "    </tr>\n",
       "  </tbody>\n",
       "</table>\n",
       "<p>4621 rows × 9 columns</p>\n",
       "</div>"
      ],
      "text/plain": [
       "             사용일자  노선번호                      노선명 버스정류장ARS번호             역명  \\\n",
       "747      20220401  750B         750B번(은평차고지~서울대)          ~    은평공영차고지(가상)   \n",
       "852      20220401   602        602번(양천공용차고지~시청앞)          ~  양천공영차고지(기점가상)   \n",
       "1048     20220401  2227       2227번(중랑공영차고지~중곡역)          ~  중랑공영차고지(기점가상)   \n",
       "1252     20220401  2311         2311번(중랑차고지~문정동)          ~  중랑공영차고지(기점가상)   \n",
       "1479     20220401  2312   2312번(중랑공영차고지~강동공영차고지)          ~  중랑공영차고지(기점가상)   \n",
       "...           ...   ...                      ...        ...            ...   \n",
       "1047071  20220427   130             130번(우이동~길동)          ~   우이동차고지(기점가상)   \n",
       "1047493  20220427   143             143번(정릉~개포동)          ~    대진여객차고지(가상)   \n",
       "1047602  20220427   144             144번(우이동~교대)          ~   우이동차고지(기점가상)   \n",
       "1048461  20220427   162             162번(정릉~여의도)          ~    대진여객차고지(가상)   \n",
       "1048533  20220427   171  171번(용마문화복지센터~월드컵파크7단지)          ~    도원교통차고지(가상)   \n",
       "\n",
       "         승차총승객수  하차총승객수      등록일자  자치구  \n",
       "747           0     100  20220404  NaN  \n",
       "852          10       0  20220404  NaN  \n",
       "1048          1       0  20220404  NaN  \n",
       "1252          7       0  20220404  NaN  \n",
       "1479          4       0  20220404  NaN  \n",
       "...         ...     ...       ...  ...  \n",
       "1047071     332     318  20220430  NaN  \n",
       "1047493     485       2  20220430  NaN  \n",
       "1047602      65     111  20220430  NaN  \n",
       "1048461     264       4  20220430  NaN  \n",
       "1048533     485       1  20220430  NaN  \n",
       "\n",
       "[4621 rows x 9 columns]"
      ]
     },
     "execution_count": 13,
     "metadata": {},
     "output_type": "execute_result"
    }
   ],
   "source": [
    "# (가상기점),(가상종점)때문에 ARS번호가 '~'로 나오는 곳이 있습니다 확인해볼까요?\n",
    "\n",
    "bus_station.loc[bus_station['버스정류장ARS번호'] == '~']"
   ]
  },
  {
   "cell_type": "code",
   "execution_count": 14,
   "id": "f516f562",
   "metadata": {
    "id": "f516f562"
   },
   "outputs": [],
   "source": [
    "# NaN 값을 제거 하겠습니다\n",
    "\n",
    "bus_station = bus_station.dropna()"
   ]
  },
  {
   "cell_type": "code",
   "execution_count": 15,
   "id": "3e9342f9",
   "metadata": {
    "id": "3e9342f9"
   },
   "outputs": [
    {
     "name": "stdout",
     "output_type": "stream",
     "text": [
      "<class 'pandas.core.frame.DataFrame'>\n",
      "Int64Index: 725516 entries, 4 to 1048574\n",
      "Data columns (total 9 columns):\n",
      " #   Column      Non-Null Count   Dtype \n",
      "---  ------      --------------   ----- \n",
      " 0   사용일자        725516 non-null  int64 \n",
      " 1   노선번호        725516 non-null  object\n",
      " 2   노선명         725516 non-null  object\n",
      " 3   버스정류장ARS번호  725516 non-null  object\n",
      " 4   역명          725516 non-null  object\n",
      " 5   승차총승객수      725516 non-null  int64 \n",
      " 6   하차총승객수      725516 non-null  int64 \n",
      " 7   등록일자        725516 non-null  int64 \n",
      " 8   자치구         725516 non-null  object\n",
      "dtypes: int64(4), object(5)\n",
      "memory usage: 55.4+ MB\n"
     ]
    }
   ],
   "source": [
    "bus_station.info()"
   ]
  },
  {
   "cell_type": "code",
   "execution_count": 16,
   "id": "ae560474",
   "metadata": {
    "id": "ae560474"
   },
   "outputs": [],
   "source": [
    "bus_station = bus_station.astype({\"버스정류장ARS번호\":'int'})"
   ]
  },
  {
   "cell_type": "markdown",
   "id": "003322b3",
   "metadata": {
    "id": "003322b3"
   },
   "source": [
    "#### [실습문제5] 구별로 버스정류장이 몇 개 있는지 궁금합니다\n",
    "\n",
    "* 구별로 버스 정류장의 개수를 확인해 주세요\n"
   ]
  },
  {
   "cell_type": "code",
   "execution_count": 17,
   "id": "7b63abb7",
   "metadata": {
    "id": "7b63abb7"
   },
   "outputs": [
    {
     "data": {
      "text/plain": [
       "자치구\n",
       "강남구     506\n",
       "강동구     391\n",
       "강서구     576\n",
       "관악구     552\n",
       "구로구     510\n",
       "금천구     415\n",
       "노원구     587\n",
       "도봉구     387\n",
       "동작구     451\n",
       "마포구     568\n",
       "서대문구    460\n",
       "서초구     665\n",
       "송파구     416\n",
       "양천구     414\n",
       "영등포구    467\n",
       "은평구     558\n",
       "Name: 버스정류장ARS번호, dtype: int64"
      ]
     },
     "execution_count": 17,
     "metadata": {},
     "output_type": "execute_result"
    }
   ],
   "source": [
    "# nunique로 고유값의 갯수만 확인해볼게요\n",
    "\n",
    "bus_station_count = bus_station.groupby(\"자치구\")[\"버스정류장ARS번호\"].nunique()\n",
    "bus_station_count"
   ]
  },
  {
   "cell_type": "code",
   "execution_count": 18,
   "id": "3c63d951",
   "metadata": {
    "id": "3c63d951"
   },
   "outputs": [
    {
     "name": "stdout",
     "output_type": "stream",
     "text": [
      "[23783 23081 23074 23062 23045 23061 23771 23419 23420 23421 23405 23423\n",
      " 23424 23425 23150 23404 23406 23465 23380 23381 23382 23362 23395 23240\n",
      " 23511 23509 23242 23197 23192 23172 23173 23174 23175 23180 23161 23155\n",
      " 23151 23430 23429 23149 23157 23159 23182 23183 23184 23186 23187 23189\n",
      " 23199 23244 23245 23236 23360 23361 23449 23383 23384 23450 23385 23407\n",
      " 23408 23320 23426 23427 23428 23411 23416 23417 23418 23287 23288 23305\n",
      " 23306 23259 23260 23201 23217 23218 23277 23280 23283 23284 23196 23188\n",
      " 23171 23166 23165 23158 23156 23148 23104 23102 23101 23103 23167 23169\n",
      " 23170 23198 23473 23438 23249 23262 23224 23225 23226 23227 23456 23334\n",
      " 23335 23336 23457 23338 23459 23339 23340 23326 23327 23228 23229 23233\n",
      " 23234 23247 23248 23168 23531 23190 23210 23212 23216 23290 23178 23432\n",
      " 23162 23163 23160 23507 23127 23200 23136 23213 23211 23191 23243 23202\n",
      " 23203 23393 23442 23527 23530 23463 23471 23447 23480 23437 23110 23111\n",
      " 23112 23124 23125 23181 23137 23482 23448 23138 23446 23464 23538 23526\n",
      " 23143 23528 23394 23268 23282 23285 23286 23122 23123 23117 23118 23119\n",
      " 23270 23273 23274 23206 23108 23521 23500 23237 23219 23329 23316 23317\n",
      " 23318 23319 23386 23109 23359 23397 23462 23489 23387 23388 23410 23323\n",
      " 23324 23230 23238 23501 23520 23368 23369 23370 23322 23529 23525 23313\n",
      " 23304 23281 23269 23145 23146 23412 23132 23434 23133 23176 23177 23128\n",
      " 23129 23115 23116 23134 23439 23537 23414 23135 23205 23105 23106 23113\n",
      " 23114 23431 23289 23512 23488 23481 23504 23231 23352 23351 23141 23142\n",
      " 23271 23279 23302 23510 23300 23308 23309 23332 23333 23515 23348 23505\n",
      " 23364 23516 23517 23518 23519 23524 23377 23378 23379 23522 23341 23342\n",
      " 23232 23220 23221 23466 23252 23301 23513 23303 23278 23272 23139 23140\n",
      " 23337 23884 23543 23422 23409 23849 23345 23641 23346 23347 23353 23354\n",
      " 23344 23343 23483 23239 23474 23595 23253 23258 23214 23215 23193 23194\n",
      " 23195 23275 23276 23307 23479 23491 23484 23458 23325 23363 23445 23366\n",
      " 23256 23257 23310 23311 23296 23298 23144 23120 23121 23266 23267 23299\n",
      " 23297 23330 23254 23255 23126 23185 23107 23433 23468 23365 23295 23572\n",
      " 23413 23222 23223 23398 23399 23400 23994 23392 23263 23264 23265 23367\n",
      " 23470 23454 23251 23963 23964 23965 23972 23941 23942 23943 23544 23950\n",
      " 23944 23971 23968 23969 23970 23532 23514 23575 23598 23697 23738 23756\n",
      " 23856 23918 23321 23866 23314 23315 23924 23925 23876 23883 23209 23960\n",
      " 23523 23533 23356 23358 23728 23917 23815 23819 23823 23872 23822 23874\n",
      " 23877 23586 23911 23597 23600 23357 23355 23946 23402 23741 23922 23818\n",
      " 23857 23981 23389 23871 23962 23948 23949 23947 23546 23552 23558 23564\n",
      " 23569 23579 23923 23855 23858 23878 23880 23863 23545 23557 23373 23374\n",
      " 23573 23698 23749 23920 23720 23731 23375 23376 23147 23164 23921 23435\n",
      " 23246 23312 23291 23294 23331 23235 23436 23995 23967 23562 23993 23958\n",
      " 23961 23536 23204 23893 23629 23896 23933 23937 23938 23940 23403 23350\n",
      " 23349 23401 23250 23153 23207 23208 23453 23261 23371 23372 23154 23241\n",
      " 23293 23292 23152 23131 23472 23469 23130 23508 23492 23493 23475 23476\n",
      " 23477 23983]\n"
     ]
    }
   ],
   "source": [
    "# 강남구와 서초구에 500 개가 넘는 버스정류장이 있다는데, 확인해봅시다.\n",
    "bus_station_unique = bus_station.groupby(\"자치구\")[\"버스정류장ARS번호\"].unique()\n",
    "np.set_printoptions(threshold=sys.maxsize)\n",
    "print(bus_station_unique['강남구'])"
   ]
  },
  {
   "cell_type": "code",
   "execution_count": 19,
   "id": "0753a1e1",
   "metadata": {
    "id": "0753a1e1"
   },
   "outputs": [],
   "source": [
    "# 서울의 버스 정류장 데이터만 포함하고 있는 csv 파일 입니다 (서울 공공데이터 포탈)\n",
    "# https://data.seoul.go.kr/dataList/OA-15067/S/1/datasetView.do\n",
    "only_seoul = pd.read_csv('rawfiles3/1.1 bus_station.csv', sep=\",\", encoding = \"UTF-8\")"
   ]
  },
  {
   "cell_type": "code",
   "execution_count": 20,
   "id": "3d26be88",
   "metadata": {
    "id": "3d26be88"
   },
   "outputs": [
    {
     "name": "stdout",
     "output_type": "stream",
     "text": [
      "<class 'pandas.core.frame.DataFrame'>\n",
      "RangeIndex: 10935 entries, 0 to 10934\n",
      "Data columns (total 2 columns):\n",
      " #   Column  Non-Null Count  Dtype \n",
      "---  ------  --------------  ----- \n",
      " 0   ARS-ID  10935 non-null  int64 \n",
      " 1   정류소명    10935 non-null  object\n",
      "dtypes: int64(1), object(1)\n",
      "memory usage: 171.0+ KB\n"
     ]
    }
   ],
   "source": [
    "only_seoul.info()"
   ]
  },
  {
   "cell_type": "code",
   "execution_count": 21,
   "id": "e2291dc7",
   "metadata": {
    "id": "e2291dc7"
   },
   "outputs": [
    {
     "data": {
      "text/html": [
       "<div>\n",
       "<style scoped>\n",
       "    .dataframe tbody tr th:only-of-type {\n",
       "        vertical-align: middle;\n",
       "    }\n",
       "\n",
       "    .dataframe tbody tr th {\n",
       "        vertical-align: top;\n",
       "    }\n",
       "\n",
       "    .dataframe thead th {\n",
       "        text-align: right;\n",
       "    }\n",
       "</style>\n",
       "<table border=\"1\" class=\"dataframe\">\n",
       "  <thead>\n",
       "    <tr style=\"text-align: right;\">\n",
       "      <th></th>\n",
       "      <th>ARS-ID</th>\n",
       "      <th>정류소명</th>\n",
       "    </tr>\n",
       "  </thead>\n",
       "  <tbody>\n",
       "    <tr>\n",
       "      <th>0</th>\n",
       "      <td>1001</td>\n",
       "      <td>종로2가사거리</td>\n",
       "    </tr>\n",
       "    <tr>\n",
       "      <th>1</th>\n",
       "      <td>1002</td>\n",
       "      <td>창경궁.서울대학교병원</td>\n",
       "    </tr>\n",
       "    <tr>\n",
       "      <th>2</th>\n",
       "      <td>1003</td>\n",
       "      <td>명륜3가.성대입구</td>\n",
       "    </tr>\n",
       "    <tr>\n",
       "      <th>3</th>\n",
       "      <td>1004</td>\n",
       "      <td>종로2가.삼일교</td>\n",
       "    </tr>\n",
       "    <tr>\n",
       "      <th>4</th>\n",
       "      <td>1005</td>\n",
       "      <td>혜화동로터리.여운형활동터</td>\n",
       "    </tr>\n",
       "    <tr>\n",
       "      <th>...</th>\n",
       "      <td>...</td>\n",
       "      <td>...</td>\n",
       "    </tr>\n",
       "    <tr>\n",
       "      <th>10930</th>\n",
       "      <td>25995</td>\n",
       "      <td>우성아파트</td>\n",
       "    </tr>\n",
       "    <tr>\n",
       "      <th>10931</th>\n",
       "      <td>25996</td>\n",
       "      <td>우성아파트</td>\n",
       "    </tr>\n",
       "    <tr>\n",
       "      <th>10932</th>\n",
       "      <td>25997</td>\n",
       "      <td>조일약국</td>\n",
       "    </tr>\n",
       "    <tr>\n",
       "      <th>10933</th>\n",
       "      <td>25998</td>\n",
       "      <td>성내시장</td>\n",
       "    </tr>\n",
       "    <tr>\n",
       "      <th>10934</th>\n",
       "      <td>25999</td>\n",
       "      <td>천호우체국.로데오거리</td>\n",
       "    </tr>\n",
       "  </tbody>\n",
       "</table>\n",
       "<p>10935 rows × 2 columns</p>\n",
       "</div>"
      ],
      "text/plain": [
       "       ARS-ID           정류소명\n",
       "0        1001        종로2가사거리\n",
       "1        1002    창경궁.서울대학교병원\n",
       "2        1003      명륜3가.성대입구\n",
       "3        1004       종로2가.삼일교\n",
       "4        1005  혜화동로터리.여운형활동터\n",
       "...       ...            ...\n",
       "10930   25995          우성아파트\n",
       "10931   25996          우성아파트\n",
       "10932   25997           조일약국\n",
       "10933   25998           성내시장\n",
       "10934   25999    천호우체국.로데오거리\n",
       "\n",
       "[10935 rows x 2 columns]"
      ]
     },
     "execution_count": 21,
     "metadata": {},
     "output_type": "execute_result"
    }
   ],
   "source": [
    "only_seoul"
   ]
  },
  {
   "cell_type": "code",
   "execution_count": 22,
   "id": "e4f35a67",
   "metadata": {
    "id": "e4f35a67"
   },
   "outputs": [
    {
     "data": {
      "text/html": [
       "<div>\n",
       "<style scoped>\n",
       "    .dataframe tbody tr th:only-of-type {\n",
       "        vertical-align: middle;\n",
       "    }\n",
       "\n",
       "    .dataframe tbody tr th {\n",
       "        vertical-align: top;\n",
       "    }\n",
       "\n",
       "    .dataframe thead th {\n",
       "        text-align: right;\n",
       "    }\n",
       "</style>\n",
       "<table border=\"1\" class=\"dataframe\">\n",
       "  <thead>\n",
       "    <tr style=\"text-align: right;\">\n",
       "      <th></th>\n",
       "      <th>ARS-ID</th>\n",
       "      <th>정류소명</th>\n",
       "    </tr>\n",
       "  </thead>\n",
       "  <tbody>\n",
       "  </tbody>\n",
       "</table>\n",
       "</div>"
      ],
      "text/plain": [
       "Empty DataFrame\n",
       "Columns: [ARS-ID, 정류소명]\n",
       "Index: []"
      ]
     },
     "execution_count": 22,
     "metadata": {},
     "output_type": "execute_result"
    }
   ],
   "source": [
    "only_seoul.loc[only_seoul['ARS-ID'] == 23784]"
   ]
  },
  {
   "cell_type": "code",
   "execution_count": 23,
   "id": "d607bf62",
   "metadata": {
    "id": "d607bf62"
   },
   "outputs": [],
   "source": [
    "only_seoul.rename(columns={'ARS-ID':'버스정류장ARS번호'}, inplace=True)\n"
   ]
  },
  {
   "cell_type": "code",
   "execution_count": 24,
   "id": "2e8214ec",
   "metadata": {
    "id": "2e8214ec"
   },
   "outputs": [],
   "source": [
    "df = pd.merge(only_seoul,bus_station,how='inner', on='버스정류장ARS번호')"
   ]
  },
  {
   "cell_type": "code",
   "execution_count": 25,
   "id": "4bcb5acf",
   "metadata": {
    "id": "4bcb5acf"
   },
   "outputs": [
    {
     "data": {
      "text/html": [
       "<div>\n",
       "<style scoped>\n",
       "    .dataframe tbody tr th:only-of-type {\n",
       "        vertical-align: middle;\n",
       "    }\n",
       "\n",
       "    .dataframe tbody tr th {\n",
       "        vertical-align: top;\n",
       "    }\n",
       "\n",
       "    .dataframe thead th {\n",
       "        text-align: right;\n",
       "    }\n",
       "</style>\n",
       "<table border=\"1\" class=\"dataframe\">\n",
       "  <thead>\n",
       "    <tr style=\"text-align: right;\">\n",
       "      <th></th>\n",
       "      <th>버스정류장ARS번호</th>\n",
       "      <th>정류소명</th>\n",
       "      <th>사용일자</th>\n",
       "      <th>노선번호</th>\n",
       "      <th>노선명</th>\n",
       "      <th>역명</th>\n",
       "      <th>승차총승객수</th>\n",
       "      <th>하차총승객수</th>\n",
       "      <th>등록일자</th>\n",
       "      <th>자치구</th>\n",
       "    </tr>\n",
       "  </thead>\n",
       "  <tbody>\n",
       "    <tr>\n",
       "      <th>0</th>\n",
       "      <td>1001</td>\n",
       "      <td>종로2가사거리</td>\n",
       "      <td>20220401</td>\n",
       "      <td>N37</td>\n",
       "      <td>N37번(송파공영차고지~진관공영차고지)</td>\n",
       "      <td>종로2가사거리</td>\n",
       "      <td>4</td>\n",
       "      <td>9</td>\n",
       "      <td>20220404</td>\n",
       "      <td>도봉구</td>\n",
       "    </tr>\n",
       "    <tr>\n",
       "      <th>1</th>\n",
       "      <td>1001</td>\n",
       "      <td>종로2가사거리</td>\n",
       "      <td>20220401</td>\n",
       "      <td>N37</td>\n",
       "      <td>N37번(진관공영차고지~송파공영차고지)</td>\n",
       "      <td>종로2가사거리</td>\n",
       "      <td>5</td>\n",
       "      <td>6</td>\n",
       "      <td>20220404</td>\n",
       "      <td>도봉구</td>\n",
       "    </tr>\n",
       "    <tr>\n",
       "      <th>2</th>\n",
       "      <td>1001</td>\n",
       "      <td>종로2가사거리</td>\n",
       "      <td>20220401</td>\n",
       "      <td>741</td>\n",
       "      <td>741번(진관차고지~헌인릉입구)</td>\n",
       "      <td>종로2가사거리</td>\n",
       "      <td>206</td>\n",
       "      <td>203</td>\n",
       "      <td>20220404</td>\n",
       "      <td>도봉구</td>\n",
       "    </tr>\n",
       "    <tr>\n",
       "      <th>3</th>\n",
       "      <td>1001</td>\n",
       "      <td>종로2가사거리</td>\n",
       "      <td>20220401</td>\n",
       "      <td>470</td>\n",
       "      <td>470번(상암차고지~안골마을)</td>\n",
       "      <td>종로2가사거리</td>\n",
       "      <td>303</td>\n",
       "      <td>239</td>\n",
       "      <td>20220404</td>\n",
       "      <td>도봉구</td>\n",
       "    </tr>\n",
       "    <tr>\n",
       "      <th>4</th>\n",
       "      <td>1001</td>\n",
       "      <td>종로2가사거리</td>\n",
       "      <td>20220402</td>\n",
       "      <td>741</td>\n",
       "      <td>741번(진관차고지~헌인릉입구)</td>\n",
       "      <td>종로2가사거리</td>\n",
       "      <td>132</td>\n",
       "      <td>159</td>\n",
       "      <td>20220405</td>\n",
       "      <td>도봉구</td>\n",
       "    </tr>\n",
       "    <tr>\n",
       "      <th>...</th>\n",
       "      <td>...</td>\n",
       "      <td>...</td>\n",
       "      <td>...</td>\n",
       "      <td>...</td>\n",
       "      <td>...</td>\n",
       "      <td>...</td>\n",
       "      <td>...</td>\n",
       "      <td>...</td>\n",
       "      <td>...</td>\n",
       "      <td>...</td>\n",
       "    </tr>\n",
       "    <tr>\n",
       "      <th>723683</th>\n",
       "      <td>25990</td>\n",
       "      <td>암사삼성.현대아파트</td>\n",
       "      <td>20220423</td>\n",
       "      <td>강동02</td>\n",
       "      <td>강동02(가래여울~암사동서원마을)</td>\n",
       "      <td>암사삼성.현대아파트</td>\n",
       "      <td>44</td>\n",
       "      <td>30</td>\n",
       "      <td>20220426</td>\n",
       "      <td>강동구</td>\n",
       "    </tr>\n",
       "    <tr>\n",
       "      <th>723684</th>\n",
       "      <td>25990</td>\n",
       "      <td>암사삼성.현대아파트</td>\n",
       "      <td>20220424</td>\n",
       "      <td>강동02</td>\n",
       "      <td>강동02(가래여울~암사동서원마을)</td>\n",
       "      <td>암사삼성.현대아파트</td>\n",
       "      <td>37</td>\n",
       "      <td>16</td>\n",
       "      <td>20220427</td>\n",
       "      <td>강동구</td>\n",
       "    </tr>\n",
       "    <tr>\n",
       "      <th>723685</th>\n",
       "      <td>25990</td>\n",
       "      <td>암사삼성.현대아파트</td>\n",
       "      <td>20220425</td>\n",
       "      <td>강동02</td>\n",
       "      <td>강동02(가래여울~암사동서원마을)</td>\n",
       "      <td>암사삼성.현대아파트</td>\n",
       "      <td>92</td>\n",
       "      <td>38</td>\n",
       "      <td>20220428</td>\n",
       "      <td>강동구</td>\n",
       "    </tr>\n",
       "    <tr>\n",
       "      <th>723686</th>\n",
       "      <td>25990</td>\n",
       "      <td>암사삼성.현대아파트</td>\n",
       "      <td>20220426</td>\n",
       "      <td>강동02</td>\n",
       "      <td>강동02(가래여울~암사동서원마을)</td>\n",
       "      <td>암사삼성.현대아파트</td>\n",
       "      <td>89</td>\n",
       "      <td>30</td>\n",
       "      <td>20220429</td>\n",
       "      <td>강동구</td>\n",
       "    </tr>\n",
       "    <tr>\n",
       "      <th>723687</th>\n",
       "      <td>25990</td>\n",
       "      <td>암사삼성.현대아파트</td>\n",
       "      <td>20220427</td>\n",
       "      <td>강동02</td>\n",
       "      <td>강동02(가래여울~암사동서원마을)</td>\n",
       "      <td>암사삼성.현대아파트</td>\n",
       "      <td>88</td>\n",
       "      <td>40</td>\n",
       "      <td>20220430</td>\n",
       "      <td>강동구</td>\n",
       "    </tr>\n",
       "  </tbody>\n",
       "</table>\n",
       "<p>723688 rows × 10 columns</p>\n",
       "</div>"
      ],
      "text/plain": [
       "        버스정류장ARS번호        정류소명      사용일자  노선번호                    노선명  \\\n",
       "0             1001     종로2가사거리  20220401   N37  N37번(송파공영차고지~진관공영차고지)   \n",
       "1             1001     종로2가사거리  20220401   N37  N37번(진관공영차고지~송파공영차고지)   \n",
       "2             1001     종로2가사거리  20220401   741      741번(진관차고지~헌인릉입구)   \n",
       "3             1001     종로2가사거리  20220401   470       470번(상암차고지~안골마을)   \n",
       "4             1001     종로2가사거리  20220402   741      741번(진관차고지~헌인릉입구)   \n",
       "...            ...         ...       ...   ...                    ...   \n",
       "723683       25990  암사삼성.현대아파트  20220423  강동02     강동02(가래여울~암사동서원마을)   \n",
       "723684       25990  암사삼성.현대아파트  20220424  강동02     강동02(가래여울~암사동서원마을)   \n",
       "723685       25990  암사삼성.현대아파트  20220425  강동02     강동02(가래여울~암사동서원마을)   \n",
       "723686       25990  암사삼성.현대아파트  20220426  강동02     강동02(가래여울~암사동서원마을)   \n",
       "723687       25990  암사삼성.현대아파트  20220427  강동02     강동02(가래여울~암사동서원마을)   \n",
       "\n",
       "                역명  승차총승객수  하차총승객수      등록일자  자치구  \n",
       "0          종로2가사거리       4       9  20220404  도봉구  \n",
       "1          종로2가사거리       5       6  20220404  도봉구  \n",
       "2          종로2가사거리     206     203  20220404  도봉구  \n",
       "3          종로2가사거리     303     239  20220404  도봉구  \n",
       "4          종로2가사거리     132     159  20220405  도봉구  \n",
       "...            ...     ...     ...       ...  ...  \n",
       "723683  암사삼성.현대아파트      44      30  20220426  강동구  \n",
       "723684  암사삼성.현대아파트      37      16  20220427  강동구  \n",
       "723685  암사삼성.현대아파트      92      38  20220428  강동구  \n",
       "723686  암사삼성.현대아파트      89      30  20220429  강동구  \n",
       "723687  암사삼성.현대아파트      88      40  20220430  강동구  \n",
       "\n",
       "[723688 rows x 10 columns]"
      ]
     },
     "execution_count": 25,
     "metadata": {},
     "output_type": "execute_result"
    }
   ],
   "source": [
    "df"
   ]
  },
  {
   "cell_type": "code",
   "execution_count": 26,
   "id": "62dbb217",
   "metadata": {
    "id": "62dbb217"
   },
   "outputs": [
    {
     "data": {
      "text/html": [
       "<div>\n",
       "<style scoped>\n",
       "    .dataframe tbody tr th:only-of-type {\n",
       "        vertical-align: middle;\n",
       "    }\n",
       "\n",
       "    .dataframe tbody tr th {\n",
       "        vertical-align: top;\n",
       "    }\n",
       "\n",
       "    .dataframe thead th {\n",
       "        text-align: right;\n",
       "    }\n",
       "</style>\n",
       "<table border=\"1\" class=\"dataframe\">\n",
       "  <thead>\n",
       "    <tr style=\"text-align: right;\">\n",
       "      <th></th>\n",
       "      <th>자치구</th>\n",
       "      <th>버스정류장ARS번호</th>\n",
       "    </tr>\n",
       "  </thead>\n",
       "  <tbody>\n",
       "    <tr>\n",
       "      <th>11</th>\n",
       "      <td>서초구</td>\n",
       "      <td>665</td>\n",
       "    </tr>\n",
       "    <tr>\n",
       "      <th>6</th>\n",
       "      <td>노원구</td>\n",
       "      <td>586</td>\n",
       "    </tr>\n",
       "    <tr>\n",
       "      <th>2</th>\n",
       "      <td>강서구</td>\n",
       "      <td>575</td>\n",
       "    </tr>\n",
       "    <tr>\n",
       "      <th>9</th>\n",
       "      <td>마포구</td>\n",
       "      <td>562</td>\n",
       "    </tr>\n",
       "    <tr>\n",
       "      <th>15</th>\n",
       "      <td>은평구</td>\n",
       "      <td>558</td>\n",
       "    </tr>\n",
       "    <tr>\n",
       "      <th>3</th>\n",
       "      <td>관악구</td>\n",
       "      <td>550</td>\n",
       "    </tr>\n",
       "    <tr>\n",
       "      <th>4</th>\n",
       "      <td>구로구</td>\n",
       "      <td>510</td>\n",
       "    </tr>\n",
       "    <tr>\n",
       "      <th>0</th>\n",
       "      <td>강남구</td>\n",
       "      <td>499</td>\n",
       "    </tr>\n",
       "    <tr>\n",
       "      <th>14</th>\n",
       "      <td>영등포구</td>\n",
       "      <td>465</td>\n",
       "    </tr>\n",
       "    <tr>\n",
       "      <th>10</th>\n",
       "      <td>서대문구</td>\n",
       "      <td>456</td>\n",
       "    </tr>\n",
       "    <tr>\n",
       "      <th>8</th>\n",
       "      <td>동작구</td>\n",
       "      <td>447</td>\n",
       "    </tr>\n",
       "    <tr>\n",
       "      <th>5</th>\n",
       "      <td>금천구</td>\n",
       "      <td>415</td>\n",
       "    </tr>\n",
       "    <tr>\n",
       "      <th>12</th>\n",
       "      <td>송파구</td>\n",
       "      <td>415</td>\n",
       "    </tr>\n",
       "    <tr>\n",
       "      <th>13</th>\n",
       "      <td>양천구</td>\n",
       "      <td>410</td>\n",
       "    </tr>\n",
       "    <tr>\n",
       "      <th>1</th>\n",
       "      <td>강동구</td>\n",
       "      <td>387</td>\n",
       "    </tr>\n",
       "    <tr>\n",
       "      <th>7</th>\n",
       "      <td>도봉구</td>\n",
       "      <td>385</td>\n",
       "    </tr>\n",
       "  </tbody>\n",
       "</table>\n",
       "</div>"
      ],
      "text/plain": [
       "     자치구  버스정류장ARS번호\n",
       "11   서초구         665\n",
       "6    노원구         586\n",
       "2    강서구         575\n",
       "9    마포구         562\n",
       "15   은평구         558\n",
       "3    관악구         550\n",
       "4    구로구         510\n",
       "0    강남구         499\n",
       "14  영등포구         465\n",
       "10  서대문구         456\n",
       "8    동작구         447\n",
       "5    금천구         415\n",
       "12   송파구         415\n",
       "13   양천구         410\n",
       "1    강동구         387\n",
       "7    도봉구         385"
      ]
     },
     "execution_count": 26,
     "metadata": {},
     "output_type": "execute_result"
    }
   ],
   "source": [
    "# 구 별로 버스 정류장의 개수를 확인해 주세요\n",
    "\n",
    "seoul_bus_station_ARS = df.groupby(by=[\"자치구\"], as_index=False)[\"버스정류장ARS번호\"].nunique()\n",
    "seoul_bus_station_ARS.sort_values('버스정류장ARS번호',ascending=False)"
   ]
  },
  {
   "cell_type": "code",
   "execution_count": 27,
   "id": "1fa4277b",
   "metadata": {
    "id": "1fa4277b"
   },
   "outputs": [
    {
     "data": {
      "text/plain": [
       "7885"
      ]
     },
     "execution_count": 27,
     "metadata": {},
     "output_type": "execute_result"
    }
   ],
   "source": [
    "df['버스정류장ARS번호'].nunique()"
   ]
  },
  {
   "cell_type": "markdown",
   "id": "33564b09",
   "metadata": {
    "id": "33564b09"
   },
   "source": [
    "#### [실습문제6] 구 별로 버스 노선이 몇 개나 지나가는지 궁금합니다.\n",
    "\n",
    "* 구별로 버스 노선의 개수를 확인해 주세요"
   ]
  },
  {
   "cell_type": "code",
   "execution_count": 28,
   "id": "5588cb7f",
   "metadata": {
    "id": "5588cb7f"
   },
   "outputs": [
    {
     "data": {
      "text/html": [
       "<div>\n",
       "<style scoped>\n",
       "    .dataframe tbody tr th:only-of-type {\n",
       "        vertical-align: middle;\n",
       "    }\n",
       "\n",
       "    .dataframe tbody tr th {\n",
       "        vertical-align: top;\n",
       "    }\n",
       "\n",
       "    .dataframe thead th {\n",
       "        text-align: right;\n",
       "    }\n",
       "</style>\n",
       "<table border=\"1\" class=\"dataframe\">\n",
       "  <thead>\n",
       "    <tr style=\"text-align: right;\">\n",
       "      <th></th>\n",
       "      <th>자치구</th>\n",
       "      <th>노선번호</th>\n",
       "    </tr>\n",
       "  </thead>\n",
       "  <tbody>\n",
       "    <tr>\n",
       "      <th>3</th>\n",
       "      <td>관악구</td>\n",
       "      <td>164</td>\n",
       "    </tr>\n",
       "    <tr>\n",
       "      <th>11</th>\n",
       "      <td>서초구</td>\n",
       "      <td>146</td>\n",
       "    </tr>\n",
       "    <tr>\n",
       "      <th>8</th>\n",
       "      <td>동작구</td>\n",
       "      <td>135</td>\n",
       "    </tr>\n",
       "    <tr>\n",
       "      <th>15</th>\n",
       "      <td>은평구</td>\n",
       "      <td>131</td>\n",
       "    </tr>\n",
       "    <tr>\n",
       "      <th>6</th>\n",
       "      <td>노원구</td>\n",
       "      <td>113</td>\n",
       "    </tr>\n",
       "    <tr>\n",
       "      <th>10</th>\n",
       "      <td>서대문구</td>\n",
       "      <td>107</td>\n",
       "    </tr>\n",
       "    <tr>\n",
       "      <th>14</th>\n",
       "      <td>영등포구</td>\n",
       "      <td>101</td>\n",
       "    </tr>\n",
       "    <tr>\n",
       "      <th>9</th>\n",
       "      <td>마포구</td>\n",
       "      <td>97</td>\n",
       "    </tr>\n",
       "    <tr>\n",
       "      <th>7</th>\n",
       "      <td>도봉구</td>\n",
       "      <td>95</td>\n",
       "    </tr>\n",
       "    <tr>\n",
       "      <th>0</th>\n",
       "      <td>강남구</td>\n",
       "      <td>91</td>\n",
       "    </tr>\n",
       "    <tr>\n",
       "      <th>4</th>\n",
       "      <td>구로구</td>\n",
       "      <td>91</td>\n",
       "    </tr>\n",
       "    <tr>\n",
       "      <th>5</th>\n",
       "      <td>금천구</td>\n",
       "      <td>70</td>\n",
       "    </tr>\n",
       "    <tr>\n",
       "      <th>13</th>\n",
       "      <td>양천구</td>\n",
       "      <td>67</td>\n",
       "    </tr>\n",
       "    <tr>\n",
       "      <th>2</th>\n",
       "      <td>강서구</td>\n",
       "      <td>57</td>\n",
       "    </tr>\n",
       "    <tr>\n",
       "      <th>12</th>\n",
       "      <td>송파구</td>\n",
       "      <td>55</td>\n",
       "    </tr>\n",
       "    <tr>\n",
       "      <th>1</th>\n",
       "      <td>강동구</td>\n",
       "      <td>30</td>\n",
       "    </tr>\n",
       "  </tbody>\n",
       "</table>\n",
       "</div>"
      ],
      "text/plain": [
       "     자치구  노선번호\n",
       "3    관악구   164\n",
       "11   서초구   146\n",
       "8    동작구   135\n",
       "15   은평구   131\n",
       "6    노원구   113\n",
       "10  서대문구   107\n",
       "14  영등포구   101\n",
       "9    마포구    97\n",
       "7    도봉구    95\n",
       "0    강남구    91\n",
       "4    구로구    91\n",
       "5    금천구    70\n",
       "13   양천구    67\n",
       "2    강서구    57\n",
       "12   송파구    55\n",
       "1    강동구    30"
      ]
     },
     "execution_count": 28,
     "metadata": {},
     "output_type": "execute_result"
    }
   ],
   "source": [
    "seoul_bus_station_line = df.groupby(by=[\"자치구\"], as_index=False)[\"노선번호\"].nunique()\n",
    "seoul_bus_station_line.sort_values('노선번호',ascending=False)"
   ]
  },
  {
   "cell_type": "markdown",
   "id": "3666e46c",
   "metadata": {
    "id": "3666e46c"
   },
   "source": [
    "#### [실습문제7] 각 구별로 승차 총 승객수, 하차 총 승객수를 알아봅시다\n",
    "\n",
    "* groupby 를 활용해 봅시다."
   ]
  },
  {
   "cell_type": "code",
   "execution_count": 29,
   "id": "1cdd246f",
   "metadata": {
    "id": "1cdd246f"
   },
   "outputs": [
    {
     "name": "stderr",
     "output_type": "stream",
     "text": [
      "C:\\Users\\yee77\\AppData\\Local\\Temp/ipykernel_23804/3613852358.py:2: FutureWarning: Indexing with multiple keys (implicitly converted to a tuple of keys) will be deprecated, use a list instead.\n",
      "  seoul_bus_station_sum = df.groupby(by=[\"자치구\"], as_index=False)[\"승차총승객수\",\"하차총승객수\"].sum()\n"
     ]
    },
    {
     "data": {
      "text/html": [
       "<div>\n",
       "<style scoped>\n",
       "    .dataframe tbody tr th:only-of-type {\n",
       "        vertical-align: middle;\n",
       "    }\n",
       "\n",
       "    .dataframe tbody tr th {\n",
       "        vertical-align: top;\n",
       "    }\n",
       "\n",
       "    .dataframe thead th {\n",
       "        text-align: right;\n",
       "    }\n",
       "</style>\n",
       "<table border=\"1\" class=\"dataframe\">\n",
       "  <thead>\n",
       "    <tr style=\"text-align: right;\">\n",
       "      <th></th>\n",
       "      <th>자치구</th>\n",
       "      <th>승차총승객수</th>\n",
       "      <th>하차총승객수</th>\n",
       "    </tr>\n",
       "  </thead>\n",
       "  <tbody>\n",
       "    <tr>\n",
       "      <th>0</th>\n",
       "      <td>강남구</td>\n",
       "      <td>7101817</td>\n",
       "      <td>6696223</td>\n",
       "    </tr>\n",
       "    <tr>\n",
       "      <th>1</th>\n",
       "      <td>강동구</td>\n",
       "      <td>2716431</td>\n",
       "      <td>2629450</td>\n",
       "    </tr>\n",
       "    <tr>\n",
       "      <th>2</th>\n",
       "      <td>강서구</td>\n",
       "      <td>4174968</td>\n",
       "      <td>4151476</td>\n",
       "    </tr>\n",
       "    <tr>\n",
       "      <th>3</th>\n",
       "      <td>관악구</td>\n",
       "      <td>8948452</td>\n",
       "      <td>8828321</td>\n",
       "    </tr>\n",
       "    <tr>\n",
       "      <th>4</th>\n",
       "      <td>구로구</td>\n",
       "      <td>4494319</td>\n",
       "      <td>4302288</td>\n",
       "    </tr>\n",
       "    <tr>\n",
       "      <th>5</th>\n",
       "      <td>금천구</td>\n",
       "      <td>3499395</td>\n",
       "      <td>3462259</td>\n",
       "    </tr>\n",
       "    <tr>\n",
       "      <th>6</th>\n",
       "      <td>노원구</td>\n",
       "      <td>5260278</td>\n",
       "      <td>5140139</td>\n",
       "    </tr>\n",
       "    <tr>\n",
       "      <th>7</th>\n",
       "      <td>도봉구</td>\n",
       "      <td>4854707</td>\n",
       "      <td>4606462</td>\n",
       "    </tr>\n",
       "    <tr>\n",
       "      <th>8</th>\n",
       "      <td>동작구</td>\n",
       "      <td>5245984</td>\n",
       "      <td>5093961</td>\n",
       "    </tr>\n",
       "    <tr>\n",
       "      <th>9</th>\n",
       "      <td>마포구</td>\n",
       "      <td>4509315</td>\n",
       "      <td>4394812</td>\n",
       "    </tr>\n",
       "    <tr>\n",
       "      <th>10</th>\n",
       "      <td>서대문구</td>\n",
       "      <td>5216035</td>\n",
       "      <td>5158833</td>\n",
       "    </tr>\n",
       "    <tr>\n",
       "      <th>11</th>\n",
       "      <td>서초구</td>\n",
       "      <td>6928452</td>\n",
       "      <td>6812336</td>\n",
       "    </tr>\n",
       "    <tr>\n",
       "      <th>12</th>\n",
       "      <td>송파구</td>\n",
       "      <td>5007116</td>\n",
       "      <td>4973950</td>\n",
       "    </tr>\n",
       "    <tr>\n",
       "      <th>13</th>\n",
       "      <td>양천구</td>\n",
       "      <td>3883266</td>\n",
       "      <td>3618835</td>\n",
       "    </tr>\n",
       "    <tr>\n",
       "      <th>14</th>\n",
       "      <td>영등포구</td>\n",
       "      <td>5101531</td>\n",
       "      <td>5139462</td>\n",
       "    </tr>\n",
       "    <tr>\n",
       "      <th>15</th>\n",
       "      <td>은평구</td>\n",
       "      <td>5666436</td>\n",
       "      <td>5576020</td>\n",
       "    </tr>\n",
       "  </tbody>\n",
       "</table>\n",
       "</div>"
      ],
      "text/plain": [
       "     자치구   승차총승객수   하차총승객수\n",
       "0    강남구  7101817  6696223\n",
       "1    강동구  2716431  2629450\n",
       "2    강서구  4174968  4151476\n",
       "3    관악구  8948452  8828321\n",
       "4    구로구  4494319  4302288\n",
       "5    금천구  3499395  3462259\n",
       "6    노원구  5260278  5140139\n",
       "7    도봉구  4854707  4606462\n",
       "8    동작구  5245984  5093961\n",
       "9    마포구  4509315  4394812\n",
       "10  서대문구  5216035  5158833\n",
       "11   서초구  6928452  6812336\n",
       "12   송파구  5007116  4973950\n",
       "13   양천구  3883266  3618835\n",
       "14  영등포구  5101531  5139462\n",
       "15   은평구  5666436  5576020"
      ]
     },
     "execution_count": 29,
     "metadata": {},
     "output_type": "execute_result"
    }
   ],
   "source": [
    "# 아래에 실습코드를 작성하고 결과를 확인합니다.\n",
    "seoul_bus_station_sum = df.groupby(by=[\"자치구\"], as_index=False)[\"승차총승객수\",\"하차총승객수\"].sum()\n",
    "seoul_bus_station_sum\n"
   ]
  },
  {
   "cell_type": "markdown",
   "id": "a3dcb6d4",
   "metadata": {
    "id": "a3dcb6d4"
   },
   "source": [
    "#### [실습문제8] 각 구별로 승차 평균 승객수, 하차 평균 승객수를 알아봅시다"
   ]
  },
  {
   "cell_type": "code",
   "execution_count": 30,
   "id": "2aKVXAA3FMWj",
   "metadata": {
    "id": "2aKVXAA3FMWj"
   },
   "outputs": [
    {
     "name": "stderr",
     "output_type": "stream",
     "text": [
      "C:\\Users\\yee77\\AppData\\Local\\Temp/ipykernel_23804/1839471405.py:2: FutureWarning: Indexing with multiple keys (implicitly converted to a tuple of keys) will be deprecated, use a list instead.\n",
      "  seoul_bus_station_mean = df.groupby(by=[\"자치구\"], as_index=False)[\"승차총승객수\",\"하차총승객수\"].mean()\n"
     ]
    },
    {
     "data": {
      "text/html": [
       "<div>\n",
       "<style scoped>\n",
       "    .dataframe tbody tr th:only-of-type {\n",
       "        vertical-align: middle;\n",
       "    }\n",
       "\n",
       "    .dataframe tbody tr th {\n",
       "        vertical-align: top;\n",
       "    }\n",
       "\n",
       "    .dataframe thead th {\n",
       "        text-align: right;\n",
       "    }\n",
       "</style>\n",
       "<table border=\"1\" class=\"dataframe\">\n",
       "  <thead>\n",
       "    <tr style=\"text-align: right;\">\n",
       "      <th></th>\n",
       "      <th>자치구</th>\n",
       "      <th>승차평균승객수</th>\n",
       "      <th>하차평균승객수</th>\n",
       "    </tr>\n",
       "  </thead>\n",
       "  <tbody>\n",
       "    <tr>\n",
       "      <th>0</th>\n",
       "      <td>강남구</td>\n",
       "      <td>127.370859</td>\n",
       "      <td>120.096544</td>\n",
       "    </tr>\n",
       "    <tr>\n",
       "      <th>1</th>\n",
       "      <td>강동구</td>\n",
       "      <td>101.204538</td>\n",
       "      <td>97.963936</td>\n",
       "    </tr>\n",
       "    <tr>\n",
       "      <th>2</th>\n",
       "      <td>강서구</td>\n",
       "      <td>87.223817</td>\n",
       "      <td>86.733020</td>\n",
       "    </tr>\n",
       "    <tr>\n",
       "      <th>3</th>\n",
       "      <td>관악구</td>\n",
       "      <td>144.914202</td>\n",
       "      <td>142.968761</td>\n",
       "    </tr>\n",
       "    <tr>\n",
       "      <th>4</th>\n",
       "      <td>구로구</td>\n",
       "      <td>118.327603</td>\n",
       "      <td>113.271760</td>\n",
       "    </tr>\n",
       "    <tr>\n",
       "      <th>5</th>\n",
       "      <td>금천구</td>\n",
       "      <td>117.737534</td>\n",
       "      <td>116.488090</td>\n",
       "    </tr>\n",
       "    <tr>\n",
       "      <th>6</th>\n",
       "      <td>노원구</td>\n",
       "      <td>96.877933</td>\n",
       "      <td>94.665347</td>\n",
       "    </tr>\n",
       "    <tr>\n",
       "      <th>7</th>\n",
       "      <td>도봉구</td>\n",
       "      <td>118.471058</td>\n",
       "      <td>112.413051</td>\n",
       "    </tr>\n",
       "    <tr>\n",
       "      <th>8</th>\n",
       "      <td>동작구</td>\n",
       "      <td>125.809008</td>\n",
       "      <td>122.163197</td>\n",
       "    </tr>\n",
       "    <tr>\n",
       "      <th>9</th>\n",
       "      <td>마포구</td>\n",
       "      <td>103.098336</td>\n",
       "      <td>100.480406</td>\n",
       "    </tr>\n",
       "    <tr>\n",
       "      <th>10</th>\n",
       "      <td>서대문구</td>\n",
       "      <td>109.165463</td>\n",
       "      <td>107.968293</td>\n",
       "    </tr>\n",
       "    <tr>\n",
       "      <th>11</th>\n",
       "      <td>서초구</td>\n",
       "      <td>121.470809</td>\n",
       "      <td>119.435043</td>\n",
       "    </tr>\n",
       "    <tr>\n",
       "      <th>12</th>\n",
       "      <td>송파구</td>\n",
       "      <td>113.137266</td>\n",
       "      <td>112.387871</td>\n",
       "    </tr>\n",
       "    <tr>\n",
       "      <th>13</th>\n",
       "      <td>양천구</td>\n",
       "      <td>97.574401</td>\n",
       "      <td>90.930072</td>\n",
       "    </tr>\n",
       "    <tr>\n",
       "      <th>14</th>\n",
       "      <td>영등포구</td>\n",
       "      <td>119.594228</td>\n",
       "      <td>120.483438</td>\n",
       "    </tr>\n",
       "    <tr>\n",
       "      <th>15</th>\n",
       "      <td>은평구</td>\n",
       "      <td>109.968095</td>\n",
       "      <td>108.213399</td>\n",
       "    </tr>\n",
       "  </tbody>\n",
       "</table>\n",
       "</div>"
      ],
      "text/plain": [
       "     자치구     승차평균승객수     하차평균승객수\n",
       "0    강남구  127.370859  120.096544\n",
       "1    강동구  101.204538   97.963936\n",
       "2    강서구   87.223817   86.733020\n",
       "3    관악구  144.914202  142.968761\n",
       "4    구로구  118.327603  113.271760\n",
       "5    금천구  117.737534  116.488090\n",
       "6    노원구   96.877933   94.665347\n",
       "7    도봉구  118.471058  112.413051\n",
       "8    동작구  125.809008  122.163197\n",
       "9    마포구  103.098336  100.480406\n",
       "10  서대문구  109.165463  107.968293\n",
       "11   서초구  121.470809  119.435043\n",
       "12   송파구  113.137266  112.387871\n",
       "13   양천구   97.574401   90.930072\n",
       "14  영등포구  119.594228  120.483438\n",
       "15   은평구  109.968095  108.213399"
      ]
     },
     "execution_count": 30,
     "metadata": {},
     "output_type": "execute_result"
    }
   ],
   "source": [
    "# 아래에 실습코드를 작성하고 결과를 확인합니다.\n",
    "seoul_bus_station_mean = df.groupby(by=[\"자치구\"], as_index=False)[\"승차총승객수\",\"하차총승객수\"].mean()\n",
    "seoul_bus_station_mean.rename(columns={'승차총승객수':'승차평균승객수','하차총승객수':'하차평균승객수'}, inplace=True)\n",
    "seoul_bus_station_mean"
   ]
  },
  {
   "cell_type": "markdown",
   "id": "7f329891",
   "metadata": {
    "id": "7f329891"
   },
   "source": [
    "#### [실습문제9] 데이터 프레임을 합쳐보겠습니다. "
   ]
  },
  {
   "cell_type": "code",
   "execution_count": 31,
   "id": "dc284dfd",
   "metadata": {
    "id": "dc284dfd"
   },
   "outputs": [],
   "source": [
    "# 네 개 파일을 합쳐볼까요\n",
    "\n",
    "# seoul_bus_station_ARS - 정류장 수\n",
    "# seoul_bus_station_line\n",
    "# seoul_bus_station_sum\n",
    "# seoul_bus_station_mean\n",
    "import seaborn as sns\n",
    "import matplotlib.pyplot as plt\n",
    "from matplotlib import font_manager, rc\n",
    "\n",
    "font_path = \"C:/Windows/Fonts/gulim.ttc\"\n",
    "font = font_manager.FontProperties(fname=font_path).get_name()\n",
    "rc('font', family=font)\n",
    "\n",
    "a = pd.merge(seoul_bus_station_ARS,seoul_bus_station_line,how='inner', on='자치구')\n",
    "b = pd.merge(a,seoul_bus_station_sum,how='inner', on='자치구')\n",
    "seoul_bus_station = pd.merge(b,seoul_bus_station_mean,how='inner', on='자치구')"
   ]
  },
  {
   "cell_type": "code",
   "execution_count": 32,
   "id": "0f4a0eca",
   "metadata": {
    "id": "0f4a0eca"
   },
   "outputs": [],
   "source": [
    "# column 이름을 바꿔주겠습니다.\n",
    "seoul_bus_station.rename(columns={'버스정류장ARS번호':'정류장수','노선번호':'노선수'}, inplace=True)"
   ]
  },
  {
   "cell_type": "code",
   "execution_count": 33,
   "id": "470c3d5d",
   "metadata": {
    "id": "470c3d5d"
   },
   "outputs": [
    {
     "data": {
      "text/html": [
       "<div>\n",
       "<style scoped>\n",
       "    .dataframe tbody tr th:only-of-type {\n",
       "        vertical-align: middle;\n",
       "    }\n",
       "\n",
       "    .dataframe tbody tr th {\n",
       "        vertical-align: top;\n",
       "    }\n",
       "\n",
       "    .dataframe thead th {\n",
       "        text-align: right;\n",
       "    }\n",
       "</style>\n",
       "<table border=\"1\" class=\"dataframe\">\n",
       "  <thead>\n",
       "    <tr style=\"text-align: right;\">\n",
       "      <th></th>\n",
       "      <th>자치구</th>\n",
       "      <th>정류장수</th>\n",
       "      <th>노선수</th>\n",
       "      <th>승차총승객수</th>\n",
       "      <th>하차총승객수</th>\n",
       "      <th>승차평균승객수</th>\n",
       "      <th>하차평균승객수</th>\n",
       "    </tr>\n",
       "  </thead>\n",
       "  <tbody>\n",
       "    <tr>\n",
       "      <th>0</th>\n",
       "      <td>강남구</td>\n",
       "      <td>499</td>\n",
       "      <td>91</td>\n",
       "      <td>7101817</td>\n",
       "      <td>6696223</td>\n",
       "      <td>127.370859</td>\n",
       "      <td>120.096544</td>\n",
       "    </tr>\n",
       "    <tr>\n",
       "      <th>1</th>\n",
       "      <td>강동구</td>\n",
       "      <td>387</td>\n",
       "      <td>30</td>\n",
       "      <td>2716431</td>\n",
       "      <td>2629450</td>\n",
       "      <td>101.204538</td>\n",
       "      <td>97.963936</td>\n",
       "    </tr>\n",
       "    <tr>\n",
       "      <th>2</th>\n",
       "      <td>강서구</td>\n",
       "      <td>575</td>\n",
       "      <td>57</td>\n",
       "      <td>4174968</td>\n",
       "      <td>4151476</td>\n",
       "      <td>87.223817</td>\n",
       "      <td>86.733020</td>\n",
       "    </tr>\n",
       "    <tr>\n",
       "      <th>3</th>\n",
       "      <td>관악구</td>\n",
       "      <td>550</td>\n",
       "      <td>164</td>\n",
       "      <td>8948452</td>\n",
       "      <td>8828321</td>\n",
       "      <td>144.914202</td>\n",
       "      <td>142.968761</td>\n",
       "    </tr>\n",
       "    <tr>\n",
       "      <th>4</th>\n",
       "      <td>구로구</td>\n",
       "      <td>510</td>\n",
       "      <td>91</td>\n",
       "      <td>4494319</td>\n",
       "      <td>4302288</td>\n",
       "      <td>118.327603</td>\n",
       "      <td>113.271760</td>\n",
       "    </tr>\n",
       "  </tbody>\n",
       "</table>\n",
       "</div>"
      ],
      "text/plain": [
       "   자치구  정류장수  노선수   승차총승객수   하차총승객수     승차평균승객수     하차평균승객수\n",
       "0  강남구   499   91  7101817  6696223  127.370859  120.096544\n",
       "1  강동구   387   30  2716431  2629450  101.204538   97.963936\n",
       "2  강서구   575   57  4174968  4151476   87.223817   86.733020\n",
       "3  관악구   550  164  8948452  8828321  144.914202  142.968761\n",
       "4  구로구   510   91  4494319  4302288  118.327603  113.271760"
      ]
     },
     "execution_count": 33,
     "metadata": {},
     "output_type": "execute_result"
    }
   ],
   "source": [
    "# 아래에 실습코드를 작성하고 결과를 확인합니다.\n",
    "seoul_bus_station.head()"
   ]
  },
  {
   "cell_type": "code",
   "execution_count": 34,
   "id": "8b5963b5",
   "metadata": {},
   "outputs": [
    {
     "data": {
      "text/plain": [
       "<matplotlib.legend.Legend at 0x1e952be27c0>"
      ]
     },
     "execution_count": 34,
     "metadata": {},
     "output_type": "execute_result"
    },
    {
     "data": {
      "image/png": "[encoded data removed]",
      "text/plain": [
       "<Figure size 1440x720 with 1 Axes>"
      ]
     },
     "metadata": {
      "needs_background": "light"
     },
     "output_type": "display_data"
    }
   ],
   "source": [
    "# 구별 정류장, 노선 수\n",
    "plt.figure(figsize=(20,10))\n",
    "plt.plot('자치구','정류장수',data=seoul_bus_station)\n",
    "plt.plot('자치구','노선수',data=seoul_bus_station)\n",
    "plt.legend()"
   ]
  },
  {
   "cell_type": "code",
   "execution_count": 35,
   "id": "f8c90432",
   "metadata": {},
   "outputs": [
    {
     "data": {
      "text/plain": [
       "<matplotlib.legend.Legend at 0x1e95583a310>"
      ]
     },
     "execution_count": 35,
     "metadata": {},
     "output_type": "execute_result"
    },
    {
     "data": {
      "image/png": "[encoded data removed]",
      "text/plain": [
       "<Figure size 1440x720 with 1 Axes>"
      ]
     },
     "metadata": {
      "needs_background": "light"
     },
     "output_type": "display_data"
    }
   ],
   "source": [
    "# 구별 승하차총승객수\n",
    "plt.figure(figsize=(20,10))\n",
    "plt.plot('자치구','승차총승객수',data=seoul_bus_station)\n",
    "plt.plot('자치구','하차총승객수',data=seoul_bus_station)\n",
    "plt.legend()"
   ]
  },
  {
   "cell_type": "code",
   "execution_count": 36,
   "id": "32a1ed5a",
   "metadata": {},
   "outputs": [
    {
     "data": {
      "text/plain": [
       "<matplotlib.legend.Legend at 0x1e959f9bc40>"
      ]
     },
     "execution_count": 36,
     "metadata": {},
     "output_type": "execute_result"
    },
    {
     "data": {
      "image/png": "[encoded data removed]",
      "text/plain": [
       "<Figure size 1440x720 with 1 Axes>"
      ]
     },
     "metadata": {
      "needs_background": "light"
     },
     "output_type": "display_data"
    }
   ],
   "source": [
    "# 구별 승하차평균승객수\n",
    "plt.figure(figsize=(20,10))\n",
    "plt.plot('자치구','승차평균승객수',data=seoul_bus_station)\n",
    "plt.plot('자치구','하차평균승객수',data=seoul_bus_station)\n",
    "plt.legend()"
   ]
  },
  {
   "cell_type": "code",
   "execution_count": 37,
   "id": "949660fa",
   "metadata": {},
   "outputs": [
    {
     "data": {
      "text/html": [
       "<div>\n",
       "<style scoped>\n",
       "    .dataframe tbody tr th:only-of-type {\n",
       "        vertical-align: middle;\n",
       "    }\n",
       "\n",
       "    .dataframe tbody tr th {\n",
       "        vertical-align: top;\n",
       "    }\n",
       "\n",
       "    .dataframe thead th {\n",
       "        text-align: right;\n",
       "    }\n",
       "</style>\n",
       "<table border=\"1\" class=\"dataframe\">\n",
       "  <thead>\n",
       "    <tr style=\"text-align: right;\">\n",
       "      <th></th>\n",
       "      <th>자치구</th>\n",
       "      <th>정류장수</th>\n",
       "      <th>노선수</th>\n",
       "      <th>승차총승객수</th>\n",
       "      <th>하차총승객수</th>\n",
       "      <th>승차평균승객수</th>\n",
       "      <th>하차평균승객수</th>\n",
       "    </tr>\n",
       "  </thead>\n",
       "  <tbody>\n",
       "    <tr>\n",
       "      <th>3</th>\n",
       "      <td>관악구</td>\n",
       "      <td>550</td>\n",
       "      <td>164</td>\n",
       "      <td>8948452</td>\n",
       "      <td>8828321</td>\n",
       "      <td>144.914202</td>\n",
       "      <td>142.968761</td>\n",
       "    </tr>\n",
       "    <tr>\n",
       "      <th>0</th>\n",
       "      <td>강남구</td>\n",
       "      <td>499</td>\n",
       "      <td>91</td>\n",
       "      <td>7101817</td>\n",
       "      <td>6696223</td>\n",
       "      <td>127.370859</td>\n",
       "      <td>120.096544</td>\n",
       "    </tr>\n",
       "    <tr>\n",
       "      <th>11</th>\n",
       "      <td>서초구</td>\n",
       "      <td>665</td>\n",
       "      <td>146</td>\n",
       "      <td>6928452</td>\n",
       "      <td>6812336</td>\n",
       "      <td>121.470809</td>\n",
       "      <td>119.435043</td>\n",
       "    </tr>\n",
       "    <tr>\n",
       "      <th>15</th>\n",
       "      <td>은평구</td>\n",
       "      <td>558</td>\n",
       "      <td>131</td>\n",
       "      <td>5666436</td>\n",
       "      <td>5576020</td>\n",
       "      <td>109.968095</td>\n",
       "      <td>108.213399</td>\n",
       "    </tr>\n",
       "    <tr>\n",
       "      <th>6</th>\n",
       "      <td>노원구</td>\n",
       "      <td>586</td>\n",
       "      <td>113</td>\n",
       "      <td>5260278</td>\n",
       "      <td>5140139</td>\n",
       "      <td>96.877933</td>\n",
       "      <td>94.665347</td>\n",
       "    </tr>\n",
       "    <tr>\n",
       "      <th>8</th>\n",
       "      <td>동작구</td>\n",
       "      <td>447</td>\n",
       "      <td>135</td>\n",
       "      <td>5245984</td>\n",
       "      <td>5093961</td>\n",
       "      <td>125.809008</td>\n",
       "      <td>122.163197</td>\n",
       "    </tr>\n",
       "    <tr>\n",
       "      <th>10</th>\n",
       "      <td>서대문구</td>\n",
       "      <td>456</td>\n",
       "      <td>107</td>\n",
       "      <td>5216035</td>\n",
       "      <td>5158833</td>\n",
       "      <td>109.165463</td>\n",
       "      <td>107.968293</td>\n",
       "    </tr>\n",
       "    <tr>\n",
       "      <th>14</th>\n",
       "      <td>영등포구</td>\n",
       "      <td>465</td>\n",
       "      <td>101</td>\n",
       "      <td>5101531</td>\n",
       "      <td>5139462</td>\n",
       "      <td>119.594228</td>\n",
       "      <td>120.483438</td>\n",
       "    </tr>\n",
       "    <tr>\n",
       "      <th>12</th>\n",
       "      <td>송파구</td>\n",
       "      <td>415</td>\n",
       "      <td>55</td>\n",
       "      <td>5007116</td>\n",
       "      <td>4973950</td>\n",
       "      <td>113.137266</td>\n",
       "      <td>112.387871</td>\n",
       "    </tr>\n",
       "    <tr>\n",
       "      <th>7</th>\n",
       "      <td>도봉구</td>\n",
       "      <td>385</td>\n",
       "      <td>95</td>\n",
       "      <td>4854707</td>\n",
       "      <td>4606462</td>\n",
       "      <td>118.471058</td>\n",
       "      <td>112.413051</td>\n",
       "    </tr>\n",
       "    <tr>\n",
       "      <th>9</th>\n",
       "      <td>마포구</td>\n",
       "      <td>562</td>\n",
       "      <td>97</td>\n",
       "      <td>4509315</td>\n",
       "      <td>4394812</td>\n",
       "      <td>103.098336</td>\n",
       "      <td>100.480406</td>\n",
       "    </tr>\n",
       "    <tr>\n",
       "      <th>4</th>\n",
       "      <td>구로구</td>\n",
       "      <td>510</td>\n",
       "      <td>91</td>\n",
       "      <td>4494319</td>\n",
       "      <td>4302288</td>\n",
       "      <td>118.327603</td>\n",
       "      <td>113.271760</td>\n",
       "    </tr>\n",
       "    <tr>\n",
       "      <th>2</th>\n",
       "      <td>강서구</td>\n",
       "      <td>575</td>\n",
       "      <td>57</td>\n",
       "      <td>4174968</td>\n",
       "      <td>4151476</td>\n",
       "      <td>87.223817</td>\n",
       "      <td>86.733020</td>\n",
       "    </tr>\n",
       "    <tr>\n",
       "      <th>13</th>\n",
       "      <td>양천구</td>\n",
       "      <td>410</td>\n",
       "      <td>67</td>\n",
       "      <td>3883266</td>\n",
       "      <td>3618835</td>\n",
       "      <td>97.574401</td>\n",
       "      <td>90.930072</td>\n",
       "    </tr>\n",
       "    <tr>\n",
       "      <th>5</th>\n",
       "      <td>금천구</td>\n",
       "      <td>415</td>\n",
       "      <td>70</td>\n",
       "      <td>3499395</td>\n",
       "      <td>3462259</td>\n",
       "      <td>117.737534</td>\n",
       "      <td>116.488090</td>\n",
       "    </tr>\n",
       "    <tr>\n",
       "      <th>1</th>\n",
       "      <td>강동구</td>\n",
       "      <td>387</td>\n",
       "      <td>30</td>\n",
       "      <td>2716431</td>\n",
       "      <td>2629450</td>\n",
       "      <td>101.204538</td>\n",
       "      <td>97.963936</td>\n",
       "    </tr>\n",
       "  </tbody>\n",
       "</table>\n",
       "</div>"
      ],
      "text/plain": [
       "     자치구  정류장수  노선수   승차총승객수   하차총승객수     승차평균승객수     하차평균승객수\n",
       "3    관악구   550  164  8948452  8828321  144.914202  142.968761\n",
       "0    강남구   499   91  7101817  6696223  127.370859  120.096544\n",
       "11   서초구   665  146  6928452  6812336  121.470809  119.435043\n",
       "15   은평구   558  131  5666436  5576020  109.968095  108.213399\n",
       "6    노원구   586  113  5260278  5140139   96.877933   94.665347\n",
       "8    동작구   447  135  5245984  5093961  125.809008  122.163197\n",
       "10  서대문구   456  107  5216035  5158833  109.165463  107.968293\n",
       "14  영등포구   465  101  5101531  5139462  119.594228  120.483438\n",
       "12   송파구   415   55  5007116  4973950  113.137266  112.387871\n",
       "7    도봉구   385   95  4854707  4606462  118.471058  112.413051\n",
       "9    마포구   562   97  4509315  4394812  103.098336  100.480406\n",
       "4    구로구   510   91  4494319  4302288  118.327603  113.271760\n",
       "2    강서구   575   57  4174968  4151476   87.223817   86.733020\n",
       "13   양천구   410   67  3883266  3618835   97.574401   90.930072\n",
       "5    금천구   415   70  3499395  3462259  117.737534  116.488090\n",
       "1    강동구   387   30  2716431  2629450  101.204538   97.963936"
      ]
     },
     "execution_count": 37,
     "metadata": {},
     "output_type": "execute_result"
    }
   ],
   "source": [
    "seoul_bus_station.sort_values('승차총승객수',ascending=False)"
   ]
  },
  {
   "cell_type": "code",
   "execution_count": 38,
   "id": "ad3671e2",
   "metadata": {
    "scrolled": true
   },
   "outputs": [
    {
     "data": {
      "text/html": [
       "<div>\n",
       "<style scoped>\n",
       "    .dataframe tbody tr th:only-of-type {\n",
       "        vertical-align: middle;\n",
       "    }\n",
       "\n",
       "    .dataframe tbody tr th {\n",
       "        vertical-align: top;\n",
       "    }\n",
       "\n",
       "    .dataframe thead th {\n",
       "        text-align: right;\n",
       "    }\n",
       "</style>\n",
       "<table border=\"1\" class=\"dataframe\">\n",
       "  <thead>\n",
       "    <tr style=\"text-align: right;\">\n",
       "      <th></th>\n",
       "      <th>자치구</th>\n",
       "      <th>정류장수</th>\n",
       "      <th>노선수</th>\n",
       "      <th>승차총승객수</th>\n",
       "      <th>하차총승객수</th>\n",
       "      <th>승차평균승객수</th>\n",
       "      <th>하차평균승객수</th>\n",
       "    </tr>\n",
       "  </thead>\n",
       "  <tbody>\n",
       "    <tr>\n",
       "      <th>3</th>\n",
       "      <td>관악구</td>\n",
       "      <td>550</td>\n",
       "      <td>164</td>\n",
       "      <td>8948452</td>\n",
       "      <td>8828321</td>\n",
       "      <td>144.914202</td>\n",
       "      <td>142.968761</td>\n",
       "    </tr>\n",
       "    <tr>\n",
       "      <th>0</th>\n",
       "      <td>강남구</td>\n",
       "      <td>499</td>\n",
       "      <td>91</td>\n",
       "      <td>7101817</td>\n",
       "      <td>6696223</td>\n",
       "      <td>127.370859</td>\n",
       "      <td>120.096544</td>\n",
       "    </tr>\n",
       "    <tr>\n",
       "      <th>8</th>\n",
       "      <td>동작구</td>\n",
       "      <td>447</td>\n",
       "      <td>135</td>\n",
       "      <td>5245984</td>\n",
       "      <td>5093961</td>\n",
       "      <td>125.809008</td>\n",
       "      <td>122.163197</td>\n",
       "    </tr>\n",
       "    <tr>\n",
       "      <th>11</th>\n",
       "      <td>서초구</td>\n",
       "      <td>665</td>\n",
       "      <td>146</td>\n",
       "      <td>6928452</td>\n",
       "      <td>6812336</td>\n",
       "      <td>121.470809</td>\n",
       "      <td>119.435043</td>\n",
       "    </tr>\n",
       "    <tr>\n",
       "      <th>14</th>\n",
       "      <td>영등포구</td>\n",
       "      <td>465</td>\n",
       "      <td>101</td>\n",
       "      <td>5101531</td>\n",
       "      <td>5139462</td>\n",
       "      <td>119.594228</td>\n",
       "      <td>120.483438</td>\n",
       "    </tr>\n",
       "    <tr>\n",
       "      <th>7</th>\n",
       "      <td>도봉구</td>\n",
       "      <td>385</td>\n",
       "      <td>95</td>\n",
       "      <td>4854707</td>\n",
       "      <td>4606462</td>\n",
       "      <td>118.471058</td>\n",
       "      <td>112.413051</td>\n",
       "    </tr>\n",
       "    <tr>\n",
       "      <th>4</th>\n",
       "      <td>구로구</td>\n",
       "      <td>510</td>\n",
       "      <td>91</td>\n",
       "      <td>4494319</td>\n",
       "      <td>4302288</td>\n",
       "      <td>118.327603</td>\n",
       "      <td>113.271760</td>\n",
       "    </tr>\n",
       "    <tr>\n",
       "      <th>5</th>\n",
       "      <td>금천구</td>\n",
       "      <td>415</td>\n",
       "      <td>70</td>\n",
       "      <td>3499395</td>\n",
       "      <td>3462259</td>\n",
       "      <td>117.737534</td>\n",
       "      <td>116.488090</td>\n",
       "    </tr>\n",
       "    <tr>\n",
       "      <th>12</th>\n",
       "      <td>송파구</td>\n",
       "      <td>415</td>\n",
       "      <td>55</td>\n",
       "      <td>5007116</td>\n",
       "      <td>4973950</td>\n",
       "      <td>113.137266</td>\n",
       "      <td>112.387871</td>\n",
       "    </tr>\n",
       "    <tr>\n",
       "      <th>15</th>\n",
       "      <td>은평구</td>\n",
       "      <td>558</td>\n",
       "      <td>131</td>\n",
       "      <td>5666436</td>\n",
       "      <td>5576020</td>\n",
       "      <td>109.968095</td>\n",
       "      <td>108.213399</td>\n",
       "    </tr>\n",
       "    <tr>\n",
       "      <th>10</th>\n",
       "      <td>서대문구</td>\n",
       "      <td>456</td>\n",
       "      <td>107</td>\n",
       "      <td>5216035</td>\n",
       "      <td>5158833</td>\n",
       "      <td>109.165463</td>\n",
       "      <td>107.968293</td>\n",
       "    </tr>\n",
       "    <tr>\n",
       "      <th>9</th>\n",
       "      <td>마포구</td>\n",
       "      <td>562</td>\n",
       "      <td>97</td>\n",
       "      <td>4509315</td>\n",
       "      <td>4394812</td>\n",
       "      <td>103.098336</td>\n",
       "      <td>100.480406</td>\n",
       "    </tr>\n",
       "    <tr>\n",
       "      <th>1</th>\n",
       "      <td>강동구</td>\n",
       "      <td>387</td>\n",
       "      <td>30</td>\n",
       "      <td>2716431</td>\n",
       "      <td>2629450</td>\n",
       "      <td>101.204538</td>\n",
       "      <td>97.963936</td>\n",
       "    </tr>\n",
       "    <tr>\n",
       "      <th>13</th>\n",
       "      <td>양천구</td>\n",
       "      <td>410</td>\n",
       "      <td>67</td>\n",
       "      <td>3883266</td>\n",
       "      <td>3618835</td>\n",
       "      <td>97.574401</td>\n",
       "      <td>90.930072</td>\n",
       "    </tr>\n",
       "    <tr>\n",
       "      <th>6</th>\n",
       "      <td>노원구</td>\n",
       "      <td>586</td>\n",
       "      <td>113</td>\n",
       "      <td>5260278</td>\n",
       "      <td>5140139</td>\n",
       "      <td>96.877933</td>\n",
       "      <td>94.665347</td>\n",
       "    </tr>\n",
       "    <tr>\n",
       "      <th>2</th>\n",
       "      <td>강서구</td>\n",
       "      <td>575</td>\n",
       "      <td>57</td>\n",
       "      <td>4174968</td>\n",
       "      <td>4151476</td>\n",
       "      <td>87.223817</td>\n",
       "      <td>86.733020</td>\n",
       "    </tr>\n",
       "  </tbody>\n",
       "</table>\n",
       "</div>"
      ],
      "text/plain": [
       "     자치구  정류장수  노선수   승차총승객수   하차총승객수     승차평균승객수     하차평균승객수\n",
       "3    관악구   550  164  8948452  8828321  144.914202  142.968761\n",
       "0    강남구   499   91  7101817  6696223  127.370859  120.096544\n",
       "8    동작구   447  135  5245984  5093961  125.809008  122.163197\n",
       "11   서초구   665  146  6928452  6812336  121.470809  119.435043\n",
       "14  영등포구   465  101  5101531  5139462  119.594228  120.483438\n",
       "7    도봉구   385   95  4854707  4606462  118.471058  112.413051\n",
       "4    구로구   510   91  4494319  4302288  118.327603  113.271760\n",
       "5    금천구   415   70  3499395  3462259  117.737534  116.488090\n",
       "12   송파구   415   55  5007116  4973950  113.137266  112.387871\n",
       "15   은평구   558  131  5666436  5576020  109.968095  108.213399\n",
       "10  서대문구   456  107  5216035  5158833  109.165463  107.968293\n",
       "9    마포구   562   97  4509315  4394812  103.098336  100.480406\n",
       "1    강동구   387   30  2716431  2629450  101.204538   97.963936\n",
       "13   양천구   410   67  3883266  3618835   97.574401   90.930072\n",
       "6    노원구   586  113  5260278  5140139   96.877933   94.665347\n",
       "2    강서구   575   57  4174968  4151476   87.223817   86.733020"
      ]
     },
     "execution_count": 38,
     "metadata": {},
     "output_type": "execute_result"
    }
   ],
   "source": [
    "seoul_bus_station.sort_values('승차평균승객수',ascending=False)"
   ]
  },
  {
   "cell_type": "code",
   "execution_count": 39,
   "id": "81ba1365",
   "metadata": {
    "scrolled": true
   },
   "outputs": [
    {
     "data": {
      "text/plain": [
       "Text(0.5, 1.0, '상관관계')"
      ]
     },
     "execution_count": 39,
     "metadata": {},
     "output_type": "execute_result"
    },
    {
     "data": {
      "image/png": "[encoded data removed]",
      "text/plain": [
       "<Figure size 720x576 with 2 Axes>"
      ]
     },
     "metadata": {
      "needs_background": "light"
     },
     "output_type": "display_data"
    }
   ],
   "source": [
    "# 속성별 상관관계\n",
    "cor=seoul_bus_station.corr()\n",
    "plt.figure(figsize=(10,8))\n",
    "sns.heatmap(cor, annot=True)\n",
    "plt.title('상관관계', size=30)"
   ]
  },
  {
   "cell_type": "markdown",
   "id": "2c047e49",
   "metadata": {},
   "source": [
    "## 위 차트를 통해 알게된 사실을 정리해봅시다.\n",
    "### 1. 그래프와 상관관계를 보면 정류장 수와 노선 수의 상관관계는 작음. 즉, 정류장 수가 많다고 해서 노선 수도 많은 것은 아님.\n",
    "### 2. 그래프와 상관관계를 보면 승하차 총 승객수와 평균 승객수의 상관관계는 크지 않음. 즉 승하차 승객수의 평균이 크다고 해서 총 합이 많은 것은 아님.\n",
    "### 3. 그나마 노선수와 승하차 총 승객수와의 관계는 큰 것을 볼 수 있다."
   ]
  },
  {
   "cell_type": "code",
   "execution_count": 40,
   "id": "97d0cc3f",
   "metadata": {
    "id": "97d0cc3f"
   },
   "outputs": [],
   "source": [
    "# 해당 데이터프레임을 'df_seoul_bus_station.csv' 파일로 저장하세요.\n",
    "seoul_bus_station.to_csv(\"df_seoul_bus_station.csv\", index = False)"
   ]
  },
  {
   "cell_type": "markdown",
   "id": "602b8bae",
   "metadata": {
    "id": "602b8bae"
   },
   "source": [
    "---"
   ]
  },
  {
   "cell_type": "markdown",
   "id": "ca567b34",
   "metadata": {
    "id": "ca567b34"
   },
   "source": [
    "---"
   ]
  },
  {
   "cell_type": "code",
   "execution_count": 41,
   "id": "05543a8b",
   "metadata": {},
   "outputs": [],
   "source": [
    "#산점도 찍기\n",
    "from matplotlib import pyplot\n",
    "import numpy \n",
    "import seaborn as sns; sns.set()\n",
    "plt.rcParams['font.family'] = 'NanumGothic'"
   ]
  },
  {
   "cell_type": "code",
   "execution_count": 42,
   "id": "8c6cc66d",
   "metadata": {},
   "outputs": [
    {
     "data": {
      "text/plain": [
       "<matplotlib.collections.PathCollection at 0x1e95a275a90>"
      ]
     },
     "execution_count": 42,
     "metadata": {},
     "output_type": "execute_result"
    },
    {
     "data": {
      "image/png": "[encoded data removed]",
      "text/plain": [
       "<Figure size 432x288 with 1 Axes>"
      ]
     },
     "metadata": {},
     "output_type": "display_data"
    }
   ],
   "source": [
    "#pyplot 으로 상관관계를 그려봤습니다.\n",
    "pyplot.scatter(seoul_bus_station['승차총승객수'], seoul_bus_station['정류장수'],)"
   ]
  },
  {
   "cell_type": "code",
   "execution_count": 43,
   "id": "a91838ea",
   "metadata": {},
   "outputs": [
    {
     "data": {
      "image/png": "[encoded data removed]",
      "text/plain": [
       "<Figure size 360x360 with 1 Axes>"
      ]
     },
     "metadata": {},
     "output_type": "display_data"
    }
   ],
   "source": [
    "#seaborn 으로 회귀선을 그렸습니다.\n",
    "\n",
    "ax = sns.lmplot(x='승차총승객수',y='정류장수', data=seoul_bus_station)"
   ]
  },
  {
   "cell_type": "code",
   "execution_count": 44,
   "id": "85deb012",
   "metadata": {},
   "outputs": [
    {
     "data": {
      "image/png": "[encoded data removed]",
      "text/plain": [
       "<Figure size 360x360 with 1 Axes>"
      ]
     },
     "metadata": {},
     "output_type": "display_data"
    }
   ],
   "source": [
    "#seabron 으로 회귀선을 그렸습니다.\n",
    "ax = sns.lmplot(x='승차총승객수',y='노선수', data=seoul_bus_station)"
   ]
  },
  {
   "cell_type": "markdown",
   "id": "8f7b3d71",
   "metadata": {},
   "source": [
    "## 위 차트를 통해 알게된 사실을 정리해봅시다.\n",
    "### 회귀선 아래쪽으로 그려져있는게 승객수에비해 노선수가 적은구입니다. 멀리떨어져있을수록 많이 노선수가 부족하다이고\n",
    "### 가장 많이 떨어진 구를 확인해보니 정류장수가 부족한구 중구이고, 노선수가 부족한 구는 강동구이다.\n",
    "### 1. 중구가 승차총승객수에 비해  정류장수가 너무적다 더욱더 정류장이 필요하다.\n",
    "### 2. 강동구가 노선수가 승차총승객수이비해 너무적다 더욱더 노선이 필요하다"
   ]
  },
  {
   "cell_type": "code",
   "execution_count": null,
   "id": "7ccdafcc",
   "metadata": {},
   "outputs": [],
   "source": []
  },
  {
   "cell_type": "code",
   "execution_count": null,
   "id": "8542626c",
   "metadata": {},
   "outputs": [],
   "source": []
  }
 ],
 "metadata": {
  "colab": {
   "collapsed_sections": [
    "revolutionary-farmer"
   ],
   "provenance": []
  },
  "kernelspec": {
   "display_name": "Python 3 (ipykernel)",
   "language": "python",
   "name": "python3"
  },
  "language_info": {
   "codemirror_mode": {
    "name": "ipython",
    "version": 3
   },
   "file_extension": ".py",
   "mimetype": "text/x-python",
   "name": "python",
   "nbconvert_exporter": "python",
   "pygments_lexer": "ipython3",
   "version": "3.10.4"
  },
  "vscode": {
   "interpreter": {
    "hash": "f08154012ddadd8e950e6e9e035c7a7b32c136e7647e9b7c77e02eb723a8bedb"
   }
  }
 },
 "nbformat": 4,
 "nbformat_minor": 5
}
